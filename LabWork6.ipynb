{
 "cells": [
  {
   "cell_type": "code",
   "execution_count": 52,
   "id": "22c0c05e-b564-4818-9331-dc209bb88f4a",
   "metadata": {},
   "outputs": [
    {
     "name": "stdout",
     "output_type": "stream",
     "text": [
      "Cross-validation scores: [0.97222222 0.91666667 0.91666667 1.         1.        ]\n"
     ]
    }
   ],
   "source": [
    "from sklearn.model_selection import cross_val_score\n",
    "from sklearn.datasets import load_wine\n",
    "from sklearn.linear_model import LogisticRegression\n",
    "\n",
    "wine_dataset = load_wine()\n",
    "logreg = LogisticRegression(max_iter=5000)\n",
    "\n",
    "scores = cross_val_score(logreg, wine_dataset.data, wine_dataset.target)\n",
    "print(\"Cross-validation scores: {}\".format(scores))"
   ]
  },
  {
   "cell_type": "code",
   "execution_count": 53,
   "id": "bd11dade-f03e-4d42-abe9-ef341a135a5b",
   "metadata": {},
   "outputs": [
    {
     "name": "stdout",
     "output_type": "stream",
     "text": [
      "Cross-validation scores: [0.94444444 0.94444444 0.94444444 0.94444444 0.94444444 0.94444444\n",
      " 1.         1.         1.         1.        ]\n"
     ]
    }
   ],
   "source": [
    "scores = cross_val_score(logreg, wine_dataset.data, wine_dataset.target, cv=10)\n",
    "print(\"Cross-validation scores: {}\".format(scores))"
   ]
  },
  {
   "cell_type": "code",
   "execution_count": 54,
   "id": "76d3a8d5-dc47-43c3-a849-ee840ffeb17f",
   "metadata": {},
   "outputs": [
    {
     "name": "stdout",
     "output_type": "stream",
     "text": [
      "Средняя правильность перекрестной проверки: 0.97\n"
     ]
    }
   ],
   "source": [
    "print(\"Средняя правильность перекрестной проверки: {:.2f}\".format(scores.mean()))"
   ]
  },
  {
   "cell_type": "code",
   "execution_count": 55,
   "id": "1909622b-d362-4b48-9cef-36ca9f96965b",
   "metadata": {},
   "outputs": [
    {
     "data": {
      "text/plain": [
       "{'fit_time': array([0.46352696, 0.53160453, 0.41541076, 0.43755388, 0.52106643,\n",
       "        0.46036959, 0.6193254 , 0.61037135, 0.53128362, 0.48405814]),\n",
       " 'score_time': array([0., 0., 0., 0., 0., 0., 0., 0., 0., 0.]),\n",
       " 'test_score': array([0.94444444, 0.94444444, 0.94444444, 0.94444444, 0.94444444,\n",
       "        0.94444444, 1.        , 1.        , 1.        , 1.        ]),\n",
       " 'train_score': array([0.99375   , 0.99375   , 1.        , 0.99375   , 0.99375   ,\n",
       "        1.        , 0.99375   , 0.99375   , 0.99378882, 0.99378882])}"
      ]
     },
     "metadata": {},
     "output_type": "display_data"
    },
    {
     "name": "stdout",
     "output_type": "stream",
     "text": [
      "----------------------------------------------------------------------------------------------------\n"
     ]
    },
    {
     "data": {
      "text/html": [
       "<div>\n",
       "<style scoped>\n",
       "    .dataframe tbody tr th:only-of-type {\n",
       "        vertical-align: middle;\n",
       "    }\n",
       "\n",
       "    .dataframe tbody tr th {\n",
       "        vertical-align: top;\n",
       "    }\n",
       "\n",
       "    .dataframe thead th {\n",
       "        text-align: right;\n",
       "    }\n",
       "</style>\n",
       "<table border=\"1\" class=\"dataframe\">\n",
       "  <thead>\n",
       "    <tr style=\"text-align: right;\">\n",
       "      <th></th>\n",
       "      <th>fit_time</th>\n",
       "      <th>score_time</th>\n",
       "      <th>test_score</th>\n",
       "      <th>train_score</th>\n",
       "    </tr>\n",
       "  </thead>\n",
       "  <tbody>\n",
       "    <tr>\n",
       "      <th>0</th>\n",
       "      <td>0.463527</td>\n",
       "      <td>0.0</td>\n",
       "      <td>0.944444</td>\n",
       "      <td>0.993750</td>\n",
       "    </tr>\n",
       "    <tr>\n",
       "      <th>1</th>\n",
       "      <td>0.531605</td>\n",
       "      <td>0.0</td>\n",
       "      <td>0.944444</td>\n",
       "      <td>0.993750</td>\n",
       "    </tr>\n",
       "    <tr>\n",
       "      <th>2</th>\n",
       "      <td>0.415411</td>\n",
       "      <td>0.0</td>\n",
       "      <td>0.944444</td>\n",
       "      <td>1.000000</td>\n",
       "    </tr>\n",
       "    <tr>\n",
       "      <th>3</th>\n",
       "      <td>0.437554</td>\n",
       "      <td>0.0</td>\n",
       "      <td>0.944444</td>\n",
       "      <td>0.993750</td>\n",
       "    </tr>\n",
       "    <tr>\n",
       "      <th>4</th>\n",
       "      <td>0.521066</td>\n",
       "      <td>0.0</td>\n",
       "      <td>0.944444</td>\n",
       "      <td>0.993750</td>\n",
       "    </tr>\n",
       "    <tr>\n",
       "      <th>5</th>\n",
       "      <td>0.460370</td>\n",
       "      <td>0.0</td>\n",
       "      <td>0.944444</td>\n",
       "      <td>1.000000</td>\n",
       "    </tr>\n",
       "    <tr>\n",
       "      <th>6</th>\n",
       "      <td>0.619325</td>\n",
       "      <td>0.0</td>\n",
       "      <td>1.000000</td>\n",
       "      <td>0.993750</td>\n",
       "    </tr>\n",
       "    <tr>\n",
       "      <th>7</th>\n",
       "      <td>0.610371</td>\n",
       "      <td>0.0</td>\n",
       "      <td>1.000000</td>\n",
       "      <td>0.993750</td>\n",
       "    </tr>\n",
       "    <tr>\n",
       "      <th>8</th>\n",
       "      <td>0.531284</td>\n",
       "      <td>0.0</td>\n",
       "      <td>1.000000</td>\n",
       "      <td>0.993789</td>\n",
       "    </tr>\n",
       "    <tr>\n",
       "      <th>9</th>\n",
       "      <td>0.484058</td>\n",
       "      <td>0.0</td>\n",
       "      <td>1.000000</td>\n",
       "      <td>0.993789</td>\n",
       "    </tr>\n",
       "  </tbody>\n",
       "</table>\n",
       "</div>"
      ],
      "text/plain": [
       "   fit_time  score_time  test_score  train_score\n",
       "0  0.463527         0.0    0.944444     0.993750\n",
       "1  0.531605         0.0    0.944444     0.993750\n",
       "2  0.415411         0.0    0.944444     1.000000\n",
       "3  0.437554         0.0    0.944444     0.993750\n",
       "4  0.521066         0.0    0.944444     0.993750\n",
       "5  0.460370         0.0    0.944444     1.000000\n",
       "6  0.619325         0.0    1.000000     0.993750\n",
       "7  0.610371         0.0    1.000000     0.993750\n",
       "8  0.531284         0.0    1.000000     0.993789\n",
       "9  0.484058         0.0    1.000000     0.993789"
      ]
     },
     "metadata": {},
     "output_type": "display_data"
    },
    {
     "name": "stdout",
     "output_type": "stream",
     "text": [
      "Mean times and scores:\n",
      " fit_time       0.507457\n",
      "score_time     0.000000\n",
      "test_score     0.966667\n",
      "train_score    0.995008\n",
      "dtype: float64\n"
     ]
    }
   ],
   "source": [
    "from sklearn.model_selection import cross_validate\n",
    "import pandas as pd\n",
    "res = cross_validate(logreg, wine_dataset.data, wine_dataset.target, cv=10, return_train_score=True)\n",
    "display(res)\n",
    "print(\"-\"*100)\n",
    "res_df = pd.DataFrame(res)\n",
    "display(res_df)\n",
    "print(\"Mean times and scores:\\n\", res_df.mean())"
   ]
  },
  {
   "cell_type": "code",
   "execution_count": 56,
   "id": "adca7e7e-4393-43f9-a6b2-3422c4927453",
   "metadata": {},
   "outputs": [
    {
     "name": "stdout",
     "output_type": "stream",
     "text": [
      "Метки вин:\n",
      "[0 0 0 0 0 0 0 0 0 0 0 0 0 0 0 0 0 0 0 0 0 0 0 0 0 0 0 0 0 0 0 0 0 0 0 0 0\n",
      " 0 0 0 0 0 0 0 0 0 0 0 0 0 0 0 0 0 0 0 0 0 0 1 1 1 1 1 1 1 1 1 1 1 1 1 1 1\n",
      " 1 1 1 1 1 1 1 1 1 1 1 1 1 1 1 1 1 1 1 1 1 1 1 1 1 1 1 1 1 1 1 1 1 1 1 1 1\n",
      " 1 1 1 1 1 1 1 1 1 1 1 1 1 1 1 1 1 1 1 2 2 2 2 2 2 2 2 2 2 2 2 2 2 2 2 2 2\n",
      " 2 2 2 2 2 2 2 2 2 2 2 2 2 2 2 2 2 2 2 2 2 2 2 2 2 2 2 2 2 2]\n"
     ]
    }
   ],
   "source": [
    "print(\"Метки вин:\\n{}\".format(wine_dataset.target))"
   ]
  },
  {
   "cell_type": "code",
   "execution_count": 57,
   "id": "2228c33d-5f09-4c6b-855a-d3dc3e2a425b",
   "metadata": {},
   "outputs": [
    {
     "name": "stdout",
     "output_type": "stream",
     "text": [
      "Значения правильности перекрестной проверки:\n",
      "[1.         0.88888889 1.         0.88888889 0.83333333 0.94444444\n",
      " 1.         0.88888889 1.         1.        ]\n"
     ]
    }
   ],
   "source": [
    "from sklearn.model_selection import KFold\n",
    "kfold = KFold(n_splits=10)\n",
    "\n",
    "print(\"Значения правильности перекрестной проверки:\\n{}\".format(cross_val_score(logreg, wine_dataset.data, wine_dataset.target, cv=kfold)))"
   ]
  },
  {
   "cell_type": "code",
   "execution_count": 58,
   "id": "9c61e5f8-9d99-40df-a0b3-2c17844988e4",
   "metadata": {},
   "outputs": [
    {
     "name": "stdout",
     "output_type": "stream",
     "text": [
      "Значения правильности перекрестной проверки:\n",
      "[0.01666667 0.74576271 0.18644068]\n"
     ]
    }
   ],
   "source": [
    "kfold = KFold(n_splits=3)\n",
    "\n",
    "print(\"Значения правильности перекрестной проверки:\\n{}\".format(cross_val_score(logreg, wine_dataset.data, wine_dataset.target, cv=kfold)))\n",
    "\n",
    "# Как и в случае с датасетом iris, использование трехблочной перекрестной проверки для набора данных wine является плохой идеей"
   ]
  },
  {
   "cell_type": "code",
   "execution_count": 59,
   "id": "486b8bb5-814a-4ab8-8109-66c41d267ce8",
   "metadata": {},
   "outputs": [
    {
     "name": "stdout",
     "output_type": "stream",
     "text": [
      "Значения правильности перекрестной проверки:\n",
      "[0.98333333 0.88135593 0.96610169]\n"
     ]
    }
   ],
   "source": [
    "kfold = KFold(n_splits=3, shuffle=True, random_state=0)\n",
    "\n",
    "print(\"Значения правильности перекрестной проверки:\\n{}\".format(cross_val_score(logreg, wine_dataset.data, wine_dataset.target, cv=kfold)))\n",
    "\n",
    "# После перемешивания данных, результат стал лучше, но как по мне, все же разбиение на большее количество блоков дает лучше результат"
   ]
  },
  {
   "cell_type": "code",
   "execution_count": 61,
   "id": "ef38512c-b585-4578-8494-b92fdf55494d",
   "metadata": {},
   "outputs": [
    {
     "name": "stdout",
     "output_type": "stream",
     "text": [
      "Количесто итераций:  178\n",
      "Средняя правильность: 0.96\n"
     ]
    }
   ],
   "source": [
    "from sklearn.model_selection import LeaveOneOut\n",
    "loo = LeaveOneOut()\n",
    "scores = cross_val_score(logreg, wine_dataset.data, wine_dataset.target, cv=loo)\n",
    "\n",
    "print(\"Количесто итераций: \", len(scores))\n",
    "print(\"Средняя правильность: {:.2f}\".format(scores.mean()))\n",
    "\n",
    "# Заняло больше минуты (долго по сравнению с предыдущими перекрестными проверками), да и результат хуже. \n",
    "# Перекрестная проверка с исключением по одному не особо подходит для wine"
   ]
  },
  {
   "cell_type": "code",
   "execution_count": 62,
   "id": "34cf799f-fb36-4654-9c5a-523b77ea6b64",
   "metadata": {},
   "outputs": [
    {
     "name": "stdout",
     "output_type": "stream",
     "text": [
      "Значения правильности перекрестной проверки:\n",
      "[0.96629213 0.98876404 0.95505618 0.96629213 0.96629213 0.94382022\n",
      " 0.92134831 0.96629213 0.96629213 0.94382022]\n"
     ]
    }
   ],
   "source": [
    "from sklearn.model_selection import ShuffleSplit\n",
    "shuffle_split = ShuffleSplit(test_size=.5, train_size = .5, n_splits=10)\n",
    "scores = cross_val_score(logreg, wine_dataset.data, wine_dataset.target, cv=shuffle_split)\n",
    "print(\"Значения правильности перекрестной проверки:\\n{}\".format(scores))"
   ]
  },
  {
   "cell_type": "code",
   "execution_count": 67,
   "id": "50b35f79-ad4a-4974-b431-147e031b9771",
   "metadata": {},
   "outputs": [
    {
     "name": "stdout",
     "output_type": "stream",
     "text": [
      "Размер обучающего набора: 133 \n",
      "Размер тестового набора: 45\n",
      "Наилучшее значение правильности: 0.96\n",
      "Наилучшее значение параметров: {'C': 1000, 'gamma': 1e-05}\n"
     ]
    }
   ],
   "source": [
    "# простой решетчатый поиск\n",
    "from sklearn.svm import SVC\n",
    "from sklearn.model_selection import train_test_split\n",
    "X_train, X_test, y_train, y_test = train_test_split(wine_dataset.data, wine_dataset.target, random_state=0)\n",
    "print(\"Размер обучающего набора: {} \\nРазмер тестового набора: {}\".format(X_train.shape[0], X_test.shape[0]))\n",
    "best_score = 0\n",
    "for gamma in [0.00001,0.0001,0.001,0.01,0.1,1,10,100,1000,10000]:\n",
    "    for C in [0.00001,0.0001,0.001,0.01,0.1,1,10,100,1000,10000]:\n",
    "        svm = SVC(gamma=gamma, C=C)\n",
    "        svm.fit(X_train, y_train)\n",
    "        score = svm.score(X_test, y_test)\n",
    "        if score > best_score:\n",
    "            best_score = score\n",
    "            best_parameters = {'C':C, 'gamma': gamma}\n",
    "print(\"Наилучшее значение правильности: {:.2f}\".format(best_score))\n",
    "print(\"Наилучшее значение параметров: {}\".format(best_parameters))\n",
    "# при значении параметров [0.001,0.01,0.1,1,10,100] значение правильности слишком низок-0.84\n",
    "# при значении параметров [0.00001,0.0001,0.001,0.01,0.1,1,10,100,1000,10000] \n",
    "# наилучшее значение правильности-0.96 при параметрах {'C': 1000, 'gamma':0.00001}"
   ]
  },
  {
   "cell_type": "code",
   "execution_count": 72,
   "id": "653aa0b0-43fd-47e8-9ef9-2a4d3ae6f6d0",
   "metadata": {},
   "outputs": [
    {
     "name": "stdout",
     "output_type": "stream",
     "text": [
      "Размер обучающего набора: 99 \n",
      "Размер проверочного набора: 34 \n",
      "Размер тестового набора: 45\n",
      "\n",
      "Лучшее значение правильности на проверочном наборе: 0.85\n",
      "Наилучшие значения параметров:  {'C': 1000, 'gamma': 1e-05}\n",
      "Правильность на тестовом наборе с наилучшими параметрами: 0.96\n"
     ]
    }
   ],
   "source": [
    "from sklearn.svm import SVC \n",
    "# разбиваем данные на обучающий+проверочный набор и тестовый набор \n",
    "X_trainval, X_test, y_trainval, y_test = train_test_split(wine_dataset.data, wine_dataset.target, random_state=0) \n",
    "# разбиваем обучающий+проверочный набор на обучающий и проверочный наборы \n",
    "X_train, X_valid, y_train, y_valid = train_test_split(X_trainval, y_trainval, random_state=1) \n",
    "print(\"Размер обучающего набора: {} \\nРазмер проверочного набора: {} \\nРазмер тестового набора:\" \" {}\\n\".format(X_train.shape[0], X_valid.shape[0], X_test.shape[0])) \n",
    " \n",
    "best_score = 0 \n",
    "for gamma in [0.00001,0.0001,0.001,0.01,0.1,1,10,100,1000,10000]:     \n",
    "    for C in [0.00001,0.0001,0.001,0.01,0.1,1,10,100,1000,10000]:         \n",
    "        svm = SVC(gamma=gamma, C=C)         \n",
    "        svm.fit(X_train, y_train)         \n",
    "        score = svm.score(X_valid, y_valid) \n",
    "        if score > best_score:             \n",
    "            best_score = score \n",
    "            best_parameters = {'C': C, 'gamma': gamma} \n",
    "# заново строим модель на наборе, полученном в результате объединения обучающих\n",
    "# и проверочных данных, оцениваем качество модели на тестовом наборе \n",
    "svm = SVC(**best_parameters) \n",
    "svm.fit(X_trainval, y_trainval) \n",
    "test_score = svm.score(X_test, y_test) \n",
    "print(\"Лучшее значение правильности на проверочном наборе: {:.2f}\".format(best_score)) \n",
    "print(\"Наилучшие значения параметров: \", best_parameters) \n",
    "print(\"Правильность на тестовом наборе с наилучшими параметрами: {:.2f}\".format(test_score))  \n",
    "# правильность классификации новых данных все еще составляет 96% как получилось ранее"
   ]
  },
  {
   "cell_type": "code",
   "execution_count": 76,
   "id": "73a467ab-2ee0-459b-b370-b62defe4633e",
   "metadata": {},
   "outputs": [
    {
     "data": {
      "text/html": [
       "<style>#sk-container-id-4 {color: black;}#sk-container-id-4 pre{padding: 0;}#sk-container-id-4 div.sk-toggleable {background-color: white;}#sk-container-id-4 label.sk-toggleable__label {cursor: pointer;display: block;width: 100%;margin-bottom: 0;padding: 0.3em;box-sizing: border-box;text-align: center;}#sk-container-id-4 label.sk-toggleable__label-arrow:before {content: \"▸\";float: left;margin-right: 0.25em;color: #696969;}#sk-container-id-4 label.sk-toggleable__label-arrow:hover:before {color: black;}#sk-container-id-4 div.sk-estimator:hover label.sk-toggleable__label-arrow:before {color: black;}#sk-container-id-4 div.sk-toggleable__content {max-height: 0;max-width: 0;overflow: hidden;text-align: left;background-color: #f0f8ff;}#sk-container-id-4 div.sk-toggleable__content pre {margin: 0.2em;color: black;border-radius: 0.25em;background-color: #f0f8ff;}#sk-container-id-4 input.sk-toggleable__control:checked~div.sk-toggleable__content {max-height: 200px;max-width: 100%;overflow: auto;}#sk-container-id-4 input.sk-toggleable__control:checked~label.sk-toggleable__label-arrow:before {content: \"▾\";}#sk-container-id-4 div.sk-estimator input.sk-toggleable__control:checked~label.sk-toggleable__label {background-color: #d4ebff;}#sk-container-id-4 div.sk-label input.sk-toggleable__control:checked~label.sk-toggleable__label {background-color: #d4ebff;}#sk-container-id-4 input.sk-hidden--visually {border: 0;clip: rect(1px 1px 1px 1px);clip: rect(1px, 1px, 1px, 1px);height: 1px;margin: -1px;overflow: hidden;padding: 0;position: absolute;width: 1px;}#sk-container-id-4 div.sk-estimator {font-family: monospace;background-color: #f0f8ff;border: 1px dotted black;border-radius: 0.25em;box-sizing: border-box;margin-bottom: 0.5em;}#sk-container-id-4 div.sk-estimator:hover {background-color: #d4ebff;}#sk-container-id-4 div.sk-parallel-item::after {content: \"\";width: 100%;border-bottom: 1px solid gray;flex-grow: 1;}#sk-container-id-4 div.sk-label:hover label.sk-toggleable__label {background-color: #d4ebff;}#sk-container-id-4 div.sk-serial::before {content: \"\";position: absolute;border-left: 1px solid gray;box-sizing: border-box;top: 0;bottom: 0;left: 50%;z-index: 0;}#sk-container-id-4 div.sk-serial {display: flex;flex-direction: column;align-items: center;background-color: white;padding-right: 0.2em;padding-left: 0.2em;position: relative;}#sk-container-id-4 div.sk-item {position: relative;z-index: 1;}#sk-container-id-4 div.sk-parallel {display: flex;align-items: stretch;justify-content: center;background-color: white;position: relative;}#sk-container-id-4 div.sk-item::before, #sk-container-id-4 div.sk-parallel-item::before {content: \"\";position: absolute;border-left: 1px solid gray;box-sizing: border-box;top: 0;bottom: 0;left: 50%;z-index: -1;}#sk-container-id-4 div.sk-parallel-item {display: flex;flex-direction: column;z-index: 1;position: relative;background-color: white;}#sk-container-id-4 div.sk-parallel-item:first-child::after {align-self: flex-end;width: 50%;}#sk-container-id-4 div.sk-parallel-item:last-child::after {align-self: flex-start;width: 50%;}#sk-container-id-4 div.sk-parallel-item:only-child::after {width: 0;}#sk-container-id-4 div.sk-dashed-wrapped {border: 1px dashed gray;margin: 0 0.4em 0.5em 0.4em;box-sizing: border-box;padding-bottom: 0.4em;background-color: white;}#sk-container-id-4 div.sk-label label {font-family: monospace;font-weight: bold;display: inline-block;line-height: 1.2em;}#sk-container-id-4 div.sk-label-container {text-align: center;}#sk-container-id-4 div.sk-container {/* jupyter's `normalize.less` sets `[hidden] { display: none; }` but bootstrap.min.css set `[hidden] { display: none !important; }` so we also need the `!important` here to be able to override the default hidden behavior on the sphinx rendered scikit-learn.org. See: https://github.com/scikit-learn/scikit-learn/issues/21755 */display: inline-block !important;position: relative;}#sk-container-id-4 div.sk-text-repr-fallback {display: none;}</style><div id=\"sk-container-id-4\" class=\"sk-top-container\"><div class=\"sk-text-repr-fallback\"><pre>SVC(C=10000, gamma=1e-05)</pre><b>In a Jupyter environment, please rerun this cell to show the HTML representation or trust the notebook. <br />On GitHub, the HTML representation is unable to render, please try loading this page with nbviewer.org.</b></div><div class=\"sk-container\" hidden><div class=\"sk-item\"><div class=\"sk-estimator sk-toggleable\"><input class=\"sk-toggleable__control sk-hidden--visually\" id=\"sk-estimator-id-4\" type=\"checkbox\" checked><label for=\"sk-estimator-id-4\" class=\"sk-toggleable__label sk-toggleable__label-arrow\">SVC</label><div class=\"sk-toggleable__content\"><pre>SVC(C=10000, gamma=1e-05)</pre></div></div></div></div></div>"
      ],
      "text/plain": [
       "SVC(C=10000, gamma=1e-05)"
      ]
     },
     "execution_count": 76,
     "metadata": {},
     "output_type": "execute_result"
    }
   ],
   "source": [
    "import numpy as np\n",
    "for gamma in [0.00001,0.0001,0.001,0.01,0.1,1,10,100,1000,10000]:\n",
    "    for C in [0.00001,0.0001,0.001,0.01,0.1,1,10,100,1000,10000]:\n",
    "        svm = SVC(gamma=gamma, C=C)\n",
    "        # выполняем перекрестную проверку\n",
    "        scores = cross_val_score(svm, X_trainval, y_trainval, cv=10)\n",
    "        score = np.mean(scores)\n",
    "        # если получаем лучшее решение правильности, сохраняем значение и параметры\n",
    "        if score > best_score:\n",
    "            best_score = score\n",
    "            best_parameters = {'C':C, 'gamma':gamma}\n",
    "# заново строим модель на наборе, полученном в результате объединения обучающих и проверочных данных\n",
    "svm = SVC(**best_parameters)\n",
    "svm.fit(X_trainval, y_trainval)"
   ]
  },
  {
   "cell_type": "code",
   "execution_count": 86,
   "id": "8f2cebf5-3327-4cd3-a828-36a31d7de7dc",
   "metadata": {},
   "outputs": [
    {
     "name": "stdout",
     "output_type": "stream",
     "text": [
      "Сетка параметров:\n",
      "{'C': [1e-05, 0.0001, 0.001, 0.01, 0.1, 1, 10, 100, 1000, 10000], 'gamma': [1e-05, 0.0001, 0.001, 0.01, 0.1, 1, 10, 100, 1000, 10000]}\n"
     ]
    }
   ],
   "source": [
    "param_grid = {'C': [0.00001,0.0001,0.001,0.01,0.1,1,10,100,1000,10000],\n",
    "              'gamma': [0.00001,0.0001,0.001,0.01,0.1,1,10,100,1000,10000]\n",
    "             }\n",
    "print(\"Сетка параметров:\\n{}\".format(param_grid))"
   ]
  },
  {
   "cell_type": "code",
   "execution_count": 87,
   "id": "3ed77002-8e07-4717-87e8-72886802de12",
   "metadata": {},
   "outputs": [
    {
     "data": {
      "text/html": [
       "<style>#sk-container-id-8 {color: black;}#sk-container-id-8 pre{padding: 0;}#sk-container-id-8 div.sk-toggleable {background-color: white;}#sk-container-id-8 label.sk-toggleable__label {cursor: pointer;display: block;width: 100%;margin-bottom: 0;padding: 0.3em;box-sizing: border-box;text-align: center;}#sk-container-id-8 label.sk-toggleable__label-arrow:before {content: \"▸\";float: left;margin-right: 0.25em;color: #696969;}#sk-container-id-8 label.sk-toggleable__label-arrow:hover:before {color: black;}#sk-container-id-8 div.sk-estimator:hover label.sk-toggleable__label-arrow:before {color: black;}#sk-container-id-8 div.sk-toggleable__content {max-height: 0;max-width: 0;overflow: hidden;text-align: left;background-color: #f0f8ff;}#sk-container-id-8 div.sk-toggleable__content pre {margin: 0.2em;color: black;border-radius: 0.25em;background-color: #f0f8ff;}#sk-container-id-8 input.sk-toggleable__control:checked~div.sk-toggleable__content {max-height: 200px;max-width: 100%;overflow: auto;}#sk-container-id-8 input.sk-toggleable__control:checked~label.sk-toggleable__label-arrow:before {content: \"▾\";}#sk-container-id-8 div.sk-estimator input.sk-toggleable__control:checked~label.sk-toggleable__label {background-color: #d4ebff;}#sk-container-id-8 div.sk-label input.sk-toggleable__control:checked~label.sk-toggleable__label {background-color: #d4ebff;}#sk-container-id-8 input.sk-hidden--visually {border: 0;clip: rect(1px 1px 1px 1px);clip: rect(1px, 1px, 1px, 1px);height: 1px;margin: -1px;overflow: hidden;padding: 0;position: absolute;width: 1px;}#sk-container-id-8 div.sk-estimator {font-family: monospace;background-color: #f0f8ff;border: 1px dotted black;border-radius: 0.25em;box-sizing: border-box;margin-bottom: 0.5em;}#sk-container-id-8 div.sk-estimator:hover {background-color: #d4ebff;}#sk-container-id-8 div.sk-parallel-item::after {content: \"\";width: 100%;border-bottom: 1px solid gray;flex-grow: 1;}#sk-container-id-8 div.sk-label:hover label.sk-toggleable__label {background-color: #d4ebff;}#sk-container-id-8 div.sk-serial::before {content: \"\";position: absolute;border-left: 1px solid gray;box-sizing: border-box;top: 0;bottom: 0;left: 50%;z-index: 0;}#sk-container-id-8 div.sk-serial {display: flex;flex-direction: column;align-items: center;background-color: white;padding-right: 0.2em;padding-left: 0.2em;position: relative;}#sk-container-id-8 div.sk-item {position: relative;z-index: 1;}#sk-container-id-8 div.sk-parallel {display: flex;align-items: stretch;justify-content: center;background-color: white;position: relative;}#sk-container-id-8 div.sk-item::before, #sk-container-id-8 div.sk-parallel-item::before {content: \"\";position: absolute;border-left: 1px solid gray;box-sizing: border-box;top: 0;bottom: 0;left: 50%;z-index: -1;}#sk-container-id-8 div.sk-parallel-item {display: flex;flex-direction: column;z-index: 1;position: relative;background-color: white;}#sk-container-id-8 div.sk-parallel-item:first-child::after {align-self: flex-end;width: 50%;}#sk-container-id-8 div.sk-parallel-item:last-child::after {align-self: flex-start;width: 50%;}#sk-container-id-8 div.sk-parallel-item:only-child::after {width: 0;}#sk-container-id-8 div.sk-dashed-wrapped {border: 1px dashed gray;margin: 0 0.4em 0.5em 0.4em;box-sizing: border-box;padding-bottom: 0.4em;background-color: white;}#sk-container-id-8 div.sk-label label {font-family: monospace;font-weight: bold;display: inline-block;line-height: 1.2em;}#sk-container-id-8 div.sk-label-container {text-align: center;}#sk-container-id-8 div.sk-container {/* jupyter's `normalize.less` sets `[hidden] { display: none; }` but bootstrap.min.css set `[hidden] { display: none !important; }` so we also need the `!important` here to be able to override the default hidden behavior on the sphinx rendered scikit-learn.org. See: https://github.com/scikit-learn/scikit-learn/issues/21755 */display: inline-block !important;position: relative;}#sk-container-id-8 div.sk-text-repr-fallback {display: none;}</style><div id=\"sk-container-id-8\" class=\"sk-top-container\"><div class=\"sk-text-repr-fallback\"><pre>GridSearchCV(cv=10, estimator=SVC(),\n",
       "             param_grid={&#x27;C&#x27;: [1e-05, 0.0001, 0.001, 0.01, 0.1, 1, 10, 100,\n",
       "                               1000, 10000],\n",
       "                         &#x27;gamma&#x27;: [1e-05, 0.0001, 0.001, 0.01, 0.1, 1, 10, 100,\n",
       "                                   1000, 10000]})</pre><b>In a Jupyter environment, please rerun this cell to show the HTML representation or trust the notebook. <br />On GitHub, the HTML representation is unable to render, please try loading this page with nbviewer.org.</b></div><div class=\"sk-container\" hidden><div class=\"sk-item sk-dashed-wrapped\"><div class=\"sk-label-container\"><div class=\"sk-label sk-toggleable\"><input class=\"sk-toggleable__control sk-hidden--visually\" id=\"sk-estimator-id-14\" type=\"checkbox\" ><label for=\"sk-estimator-id-14\" class=\"sk-toggleable__label sk-toggleable__label-arrow\">GridSearchCV</label><div class=\"sk-toggleable__content\"><pre>GridSearchCV(cv=10, estimator=SVC(),\n",
       "             param_grid={&#x27;C&#x27;: [1e-05, 0.0001, 0.001, 0.01, 0.1, 1, 10, 100,\n",
       "                               1000, 10000],\n",
       "                         &#x27;gamma&#x27;: [1e-05, 0.0001, 0.001, 0.01, 0.1, 1, 10, 100,\n",
       "                                   1000, 10000]})</pre></div></div></div><div class=\"sk-parallel\"><div class=\"sk-parallel-item\"><div class=\"sk-item\"><div class=\"sk-label-container\"><div class=\"sk-label sk-toggleable\"><input class=\"sk-toggleable__control sk-hidden--visually\" id=\"sk-estimator-id-15\" type=\"checkbox\" ><label for=\"sk-estimator-id-15\" class=\"sk-toggleable__label sk-toggleable__label-arrow\">estimator: SVC</label><div class=\"sk-toggleable__content\"><pre>SVC()</pre></div></div></div><div class=\"sk-serial\"><div class=\"sk-item\"><div class=\"sk-estimator sk-toggleable\"><input class=\"sk-toggleable__control sk-hidden--visually\" id=\"sk-estimator-id-16\" type=\"checkbox\" ><label for=\"sk-estimator-id-16\" class=\"sk-toggleable__label sk-toggleable__label-arrow\">SVC</label><div class=\"sk-toggleable__content\"><pre>SVC()</pre></div></div></div></div></div></div></div></div></div></div>"
      ],
      "text/plain": [
       "GridSearchCV(cv=10, estimator=SVC(),\n",
       "             param_grid={'C': [1e-05, 0.0001, 0.001, 0.01, 0.1, 1, 10, 100,\n",
       "                               1000, 10000],\n",
       "                         'gamma': [1e-05, 0.0001, 0.001, 0.01, 0.1, 1, 10, 100,\n",
       "                                   1000, 10000]})"
      ]
     },
     "execution_count": 87,
     "metadata": {},
     "output_type": "execute_result"
    }
   ],
   "source": [
    "from sklearn.model_selection import GridSearchCV\n",
    "from sklearn.svm import SVC\n",
    "grid_search = GridSearchCV(SVC(), param_grid, cv=10)\n",
    "\n",
    "X_train, X_test, y_train, y_test = train_test_split(wine_dataset.data, wine_dataset.target, random_state=0)\n",
    "grid_search.fit(X_train,y_train)"
   ]
  },
  {
   "cell_type": "code",
   "execution_count": 88,
   "id": "aaf4d55c-4b29-45a2-b77e-71039eb9f00a",
   "metadata": {},
   "outputs": [
    {
     "name": "stdout",
     "output_type": "stream",
     "text": [
      "Правильность на тестовом наборе: 0.91\n"
     ]
    }
   ],
   "source": [
    "print(\"Правильность на тестовом наборе: {:.2f}\".format(grid_search.score(X_test,y_test)))"
   ]
  },
  {
   "cell_type": "code",
   "execution_count": 90,
   "id": "31334173-d2b9-41de-a12f-8e2036416539",
   "metadata": {},
   "outputs": [
    {
     "name": "stdout",
     "output_type": "stream",
     "text": [
      "Наилучшее значения параметров: {'C': 10000, 'gamma': 1e-05}\n",
      "Наилучшее значение кросс-валидационной правильности: 0.93\n"
     ]
    }
   ],
   "source": [
    "print(\"Наилучшее значения параметров: {}\".format(grid_search.best_params_))\n",
    "print(\"Наилучшее значение кросс-валидационной правильности: {:.2f}\".format(grid_search.best_score_))"
   ]
  },
  {
   "cell_type": "code",
   "execution_count": 91,
   "id": "01b407f4-824d-435b-986e-f991ff67a7a7",
   "metadata": {},
   "outputs": [
    {
     "name": "stdout",
     "output_type": "stream",
     "text": [
      "Наилучшая модель:\n",
      "SVC(C=10000, gamma=1e-05)\n"
     ]
    }
   ],
   "source": [
    "print(\"Наилучшая модель:\\n{}\".format(grid_search.best_estimator_))"
   ]
  },
  {
   "cell_type": "code",
   "execution_count": 92,
   "id": "858f9f65-4b65-4574-abe7-1db35007ca73",
   "metadata": {},
   "outputs": [
    {
     "data": {
      "text/html": [
       "<div>\n",
       "<style scoped>\n",
       "    .dataframe tbody tr th:only-of-type {\n",
       "        vertical-align: middle;\n",
       "    }\n",
       "\n",
       "    .dataframe tbody tr th {\n",
       "        vertical-align: top;\n",
       "    }\n",
       "\n",
       "    .dataframe thead th {\n",
       "        text-align: right;\n",
       "    }\n",
       "</style>\n",
       "<table border=\"1\" class=\"dataframe\">\n",
       "  <thead>\n",
       "    <tr style=\"text-align: right;\">\n",
       "      <th></th>\n",
       "      <th>mean_fit_time</th>\n",
       "      <th>std_fit_time</th>\n",
       "      <th>mean_score_time</th>\n",
       "      <th>std_score_time</th>\n",
       "      <th>param_C</th>\n",
       "      <th>param_gamma</th>\n",
       "      <th>params</th>\n",
       "      <th>split0_test_score</th>\n",
       "      <th>split1_test_score</th>\n",
       "      <th>split2_test_score</th>\n",
       "      <th>split3_test_score</th>\n",
       "      <th>split4_test_score</th>\n",
       "      <th>split5_test_score</th>\n",
       "      <th>split6_test_score</th>\n",
       "      <th>split7_test_score</th>\n",
       "      <th>split8_test_score</th>\n",
       "      <th>split9_test_score</th>\n",
       "      <th>mean_test_score</th>\n",
       "      <th>std_test_score</th>\n",
       "      <th>rank_test_score</th>\n",
       "    </tr>\n",
       "  </thead>\n",
       "  <tbody>\n",
       "    <tr>\n",
       "      <th>0</th>\n",
       "      <td>0.003204</td>\n",
       "      <td>0.002546</td>\n",
       "      <td>0.001343</td>\n",
       "      <td>0.002324</td>\n",
       "      <td>0.00001</td>\n",
       "      <td>0.00001</td>\n",
       "      <td>{'C': 1e-05, 'gamma': 1e-05}</td>\n",
       "      <td>0.357143</td>\n",
       "      <td>0.357143</td>\n",
       "      <td>0.357143</td>\n",
       "      <td>0.384615</td>\n",
       "      <td>0.384615</td>\n",
       "      <td>0.384615</td>\n",
       "      <td>0.384615</td>\n",
       "      <td>0.384615</td>\n",
       "      <td>0.384615</td>\n",
       "      <td>0.384615</td>\n",
       "      <td>0.376374</td>\n",
       "      <td>0.012589</td>\n",
       "      <td>29</td>\n",
       "    </tr>\n",
       "    <tr>\n",
       "      <th>1</th>\n",
       "      <td>0.001718</td>\n",
       "      <td>0.003391</td>\n",
       "      <td>0.000000</td>\n",
       "      <td>0.000000</td>\n",
       "      <td>0.00001</td>\n",
       "      <td>0.0001</td>\n",
       "      <td>{'C': 1e-05, 'gamma': 0.0001}</td>\n",
       "      <td>0.357143</td>\n",
       "      <td>0.357143</td>\n",
       "      <td>0.357143</td>\n",
       "      <td>0.384615</td>\n",
       "      <td>0.384615</td>\n",
       "      <td>0.384615</td>\n",
       "      <td>0.384615</td>\n",
       "      <td>0.384615</td>\n",
       "      <td>0.384615</td>\n",
       "      <td>0.384615</td>\n",
       "      <td>0.376374</td>\n",
       "      <td>0.012589</td>\n",
       "      <td>29</td>\n",
       "    </tr>\n",
       "    <tr>\n",
       "      <th>2</th>\n",
       "      <td>0.001750</td>\n",
       "      <td>0.004905</td>\n",
       "      <td>0.000800</td>\n",
       "      <td>0.002400</td>\n",
       "      <td>0.00001</td>\n",
       "      <td>0.001</td>\n",
       "      <td>{'C': 1e-05, 'gamma': 0.001}</td>\n",
       "      <td>0.357143</td>\n",
       "      <td>0.357143</td>\n",
       "      <td>0.357143</td>\n",
       "      <td>0.384615</td>\n",
       "      <td>0.384615</td>\n",
       "      <td>0.384615</td>\n",
       "      <td>0.384615</td>\n",
       "      <td>0.384615</td>\n",
       "      <td>0.384615</td>\n",
       "      <td>0.384615</td>\n",
       "      <td>0.376374</td>\n",
       "      <td>0.012589</td>\n",
       "      <td>29</td>\n",
       "    </tr>\n",
       "    <tr>\n",
       "      <th>3</th>\n",
       "      <td>0.003959</td>\n",
       "      <td>0.004844</td>\n",
       "      <td>0.000000</td>\n",
       "      <td>0.000000</td>\n",
       "      <td>0.00001</td>\n",
       "      <td>0.01</td>\n",
       "      <td>{'C': 1e-05, 'gamma': 0.01}</td>\n",
       "      <td>0.357143</td>\n",
       "      <td>0.357143</td>\n",
       "      <td>0.357143</td>\n",
       "      <td>0.384615</td>\n",
       "      <td>0.384615</td>\n",
       "      <td>0.384615</td>\n",
       "      <td>0.384615</td>\n",
       "      <td>0.384615</td>\n",
       "      <td>0.384615</td>\n",
       "      <td>0.384615</td>\n",
       "      <td>0.376374</td>\n",
       "      <td>0.012589</td>\n",
       "      <td>29</td>\n",
       "    </tr>\n",
       "    <tr>\n",
       "      <th>4</th>\n",
       "      <td>0.003982</td>\n",
       "      <td>0.006352</td>\n",
       "      <td>0.000000</td>\n",
       "      <td>0.000000</td>\n",
       "      <td>0.00001</td>\n",
       "      <td>0.1</td>\n",
       "      <td>{'C': 1e-05, 'gamma': 0.1}</td>\n",
       "      <td>0.357143</td>\n",
       "      <td>0.357143</td>\n",
       "      <td>0.357143</td>\n",
       "      <td>0.384615</td>\n",
       "      <td>0.384615</td>\n",
       "      <td>0.384615</td>\n",
       "      <td>0.384615</td>\n",
       "      <td>0.384615</td>\n",
       "      <td>0.384615</td>\n",
       "      <td>0.384615</td>\n",
       "      <td>0.376374</td>\n",
       "      <td>0.012589</td>\n",
       "      <td>29</td>\n",
       "    </tr>\n",
       "  </tbody>\n",
       "</table>\n",
       "</div>"
      ],
      "text/plain": [
       "   mean_fit_time  std_fit_time  mean_score_time  std_score_time  param_C  \\\n",
       "0       0.003204      0.002546         0.001343        0.002324  0.00001   \n",
       "1       0.001718      0.003391         0.000000        0.000000  0.00001   \n",
       "2       0.001750      0.004905         0.000800        0.002400  0.00001   \n",
       "3       0.003959      0.004844         0.000000        0.000000  0.00001   \n",
       "4       0.003982      0.006352         0.000000        0.000000  0.00001   \n",
       "\n",
       "  param_gamma                         params  split0_test_score  \\\n",
       "0     0.00001   {'C': 1e-05, 'gamma': 1e-05}           0.357143   \n",
       "1      0.0001  {'C': 1e-05, 'gamma': 0.0001}           0.357143   \n",
       "2       0.001   {'C': 1e-05, 'gamma': 0.001}           0.357143   \n",
       "3        0.01    {'C': 1e-05, 'gamma': 0.01}           0.357143   \n",
       "4         0.1     {'C': 1e-05, 'gamma': 0.1}           0.357143   \n",
       "\n",
       "   split1_test_score  split2_test_score  split3_test_score  split4_test_score  \\\n",
       "0           0.357143           0.357143           0.384615           0.384615   \n",
       "1           0.357143           0.357143           0.384615           0.384615   \n",
       "2           0.357143           0.357143           0.384615           0.384615   \n",
       "3           0.357143           0.357143           0.384615           0.384615   \n",
       "4           0.357143           0.357143           0.384615           0.384615   \n",
       "\n",
       "   split5_test_score  split6_test_score  split7_test_score  split8_test_score  \\\n",
       "0           0.384615           0.384615           0.384615           0.384615   \n",
       "1           0.384615           0.384615           0.384615           0.384615   \n",
       "2           0.384615           0.384615           0.384615           0.384615   \n",
       "3           0.384615           0.384615           0.384615           0.384615   \n",
       "4           0.384615           0.384615           0.384615           0.384615   \n",
       "\n",
       "   split9_test_score  mean_test_score  std_test_score  rank_test_score  \n",
       "0           0.384615         0.376374        0.012589               29  \n",
       "1           0.384615         0.376374        0.012589               29  \n",
       "2           0.384615         0.376374        0.012589               29  \n",
       "3           0.384615         0.376374        0.012589               29  \n",
       "4           0.384615         0.376374        0.012589               29  "
      ]
     },
     "metadata": {},
     "output_type": "display_data"
    }
   ],
   "source": [
    "import pandas as pd\n",
    "results = pd.DataFrame(grid_search.cv_results_)\n",
    "display(results.head())"
   ]
  },
  {
   "cell_type": "code",
   "execution_count": 93,
   "id": "323364e7-4ffa-465c-8ddf-031ab094bf3f",
   "metadata": {},
   "outputs": [
    {
     "data": {
      "image/png": "[encoded data removed]",
      "text/plain": [
       "<Figure size 640x480 with 2 Axes>"
      ]
     },
     "metadata": {},
     "output_type": "display_data"
    }
   ],
   "source": [
    "import seaborn as sns\n",
    "import matplotlib.pyplot as plt\n",
    "scores = np.array(results.mean_test_score).reshape(10,10)\n",
    "\n",
    "# строим тепловую карту средних значений правильности перекрестной проверки\n",
    "ax = sns.heatmap(scores, annot=True, xticklabels=param_grid['gamma'], yticklabels=param_grid['C'], cmap='hsv')\n",
    "ax.set(xlabel=\"gamma\", ylabel=\"C\")\n",
    "ax.xaxis.tick_top()\n",
    "\n",
    "plt.show()"
   ]
  },
  {
   "cell_type": "code",
   "execution_count": 94,
   "id": "aace4222-c5fe-4a9c-9fc7-0785bc117cbc",
   "metadata": {},
   "outputs": [
    {
     "name": "stdout",
     "output_type": "stream",
     "text": [
      "List of grids:\n",
      "[{'kernel': ['rbf'], 'C': [1e-05, 0.0001, 0.001, 0.01, 0.1, 1, 10, 100, 1000, 10000], 'gamma': [1e-05, 0.0001, 0.001, 0.01, 0.1, 1, 10, 100, 1000, 10000]}, {'kernel': ['linear'], 'C': [1e-05, 0.0001, 0.001, 0.01, 0.1, 1, 10, 100, 1000, 10000]}]\n"
     ]
    }
   ],
   "source": [
    "param_grid = [\n",
    "    {\n",
    "        'kernel':['rbf'],\n",
    "        'C':[0.00001,0.0001,0.001,0.01,0.1,1,10,100,1000,10000],\n",
    "        'gamma':[0.00001,0.0001,0.001,0.01,0.1,1,10,100,1000,10000]\n",
    "    },\n",
    "    {\n",
    "        'kernel':['linear'],\n",
    "        'C':[0.00001,0.0001,0.001,0.01,0.1,1,10,100,1000,10000]\n",
    "    }\n",
    "]\n",
    "print(\"List of grids:\\n{}\".format(param_grid))"
   ]
  },
  {
   "cell_type": "code",
   "execution_count": 96,
   "id": "0b0b93cd-dc2c-4603-8e73-0350be3ec8f4",
   "metadata": {},
   "outputs": [
    {
     "name": "stdout",
     "output_type": "stream",
     "text": [
      "Наилучшие значения параметров: {'C': 0.1, 'kernel': 'linear'}\n",
      "Наилучшие значения кросс-валидац. правильности: 0.98\n"
     ]
    }
   ],
   "source": [
    "grid_search = GridSearchCV(SVC(), param_grid, cv=10)\n",
    "grid_search.fit(X_train, y_train)\n",
    "\n",
    "print(\"Наилучшие значения параметров: {}\".format(grid_search.best_params_))\n",
    "print(\"Наилучшие значения кросс-валидац. правильности: {:.2f}\".format(grid_search.best_score_))\n",
    "\n",
    "# использование параметра kernel значения 'linear' сильно улучшило значение правильности - аж 0.98, хотя по времени занимает дольше обычного"
   ]
  },
  {
   "cell_type": "code",
   "execution_count": 97,
   "id": "ceb546fa-7b14-43d4-a6ea-50d06eba3f86",
   "metadata": {},
   "outputs": [
    {
     "data": {
      "text/html": [
       "<div>\n",
       "<style scoped>\n",
       "    .dataframe tbody tr th:only-of-type {\n",
       "        vertical-align: middle;\n",
       "    }\n",
       "\n",
       "    .dataframe tbody tr th {\n",
       "        vertical-align: top;\n",
       "    }\n",
       "\n",
       "    .dataframe thead th {\n",
       "        text-align: right;\n",
       "    }\n",
       "</style>\n",
       "<table border=\"1\" class=\"dataframe\">\n",
       "  <thead>\n",
       "    <tr style=\"text-align: right;\">\n",
       "      <th></th>\n",
       "      <th>mean_fit_time</th>\n",
       "      <th>std_fit_time</th>\n",
       "      <th>mean_score_time</th>\n",
       "      <th>std_score_time</th>\n",
       "      <th>param_C</th>\n",
       "      <th>param_gamma</th>\n",
       "      <th>param_kernel</th>\n",
       "      <th>params</th>\n",
       "      <th>split0_test_score</th>\n",
       "      <th>split1_test_score</th>\n",
       "      <th>...</th>\n",
       "      <th>split3_test_score</th>\n",
       "      <th>split4_test_score</th>\n",
       "      <th>split5_test_score</th>\n",
       "      <th>split6_test_score</th>\n",
       "      <th>split7_test_score</th>\n",
       "      <th>split8_test_score</th>\n",
       "      <th>split9_test_score</th>\n",
       "      <th>mean_test_score</th>\n",
       "      <th>std_test_score</th>\n",
       "      <th>rank_test_score</th>\n",
       "    </tr>\n",
       "  </thead>\n",
       "  <tbody>\n",
       "    <tr>\n",
       "      <th>0</th>\n",
       "      <td>0.003450</td>\n",
       "      <td>0.004247</td>\n",
       "      <td>0.001224</td>\n",
       "      <td>0.003559</td>\n",
       "      <td>0.00001</td>\n",
       "      <td>0.00001</td>\n",
       "      <td>rbf</td>\n",
       "      <td>{'C': 1e-05, 'gamma': 1e-05, 'kernel': 'rbf'}</td>\n",
       "      <td>0.357143</td>\n",
       "      <td>0.357143</td>\n",
       "      <td>...</td>\n",
       "      <td>0.384615</td>\n",
       "      <td>0.384615</td>\n",
       "      <td>0.384615</td>\n",
       "      <td>0.384615</td>\n",
       "      <td>0.384615</td>\n",
       "      <td>0.384615</td>\n",
       "      <td>0.384615</td>\n",
       "      <td>0.376374</td>\n",
       "      <td>0.012589</td>\n",
       "      <td>39</td>\n",
       "    </tr>\n",
       "    <tr>\n",
       "      <th>1</th>\n",
       "      <td>0.002489</td>\n",
       "      <td>0.003444</td>\n",
       "      <td>0.000677</td>\n",
       "      <td>0.002031</td>\n",
       "      <td>0.00001</td>\n",
       "      <td>0.0001</td>\n",
       "      <td>rbf</td>\n",
       "      <td>{'C': 1e-05, 'gamma': 0.0001, 'kernel': 'rbf'}</td>\n",
       "      <td>0.357143</td>\n",
       "      <td>0.357143</td>\n",
       "      <td>...</td>\n",
       "      <td>0.384615</td>\n",
       "      <td>0.384615</td>\n",
       "      <td>0.384615</td>\n",
       "      <td>0.384615</td>\n",
       "      <td>0.384615</td>\n",
       "      <td>0.384615</td>\n",
       "      <td>0.384615</td>\n",
       "      <td>0.376374</td>\n",
       "      <td>0.012589</td>\n",
       "      <td>39</td>\n",
       "    </tr>\n",
       "    <tr>\n",
       "      <th>2</th>\n",
       "      <td>0.001617</td>\n",
       "      <td>0.002718</td>\n",
       "      <td>0.000153</td>\n",
       "      <td>0.000458</td>\n",
       "      <td>0.00001</td>\n",
       "      <td>0.001</td>\n",
       "      <td>rbf</td>\n",
       "      <td>{'C': 1e-05, 'gamma': 0.001, 'kernel': 'rbf'}</td>\n",
       "      <td>0.357143</td>\n",
       "      <td>0.357143</td>\n",
       "      <td>...</td>\n",
       "      <td>0.384615</td>\n",
       "      <td>0.384615</td>\n",
       "      <td>0.384615</td>\n",
       "      <td>0.384615</td>\n",
       "      <td>0.384615</td>\n",
       "      <td>0.384615</td>\n",
       "      <td>0.384615</td>\n",
       "      <td>0.376374</td>\n",
       "      <td>0.012589</td>\n",
       "      <td>39</td>\n",
       "    </tr>\n",
       "    <tr>\n",
       "      <th>3</th>\n",
       "      <td>0.002846</td>\n",
       "      <td>0.004517</td>\n",
       "      <td>0.000913</td>\n",
       "      <td>0.001598</td>\n",
       "      <td>0.00001</td>\n",
       "      <td>0.01</td>\n",
       "      <td>rbf</td>\n",
       "      <td>{'C': 1e-05, 'gamma': 0.01, 'kernel': 'rbf'}</td>\n",
       "      <td>0.357143</td>\n",
       "      <td>0.357143</td>\n",
       "      <td>...</td>\n",
       "      <td>0.384615</td>\n",
       "      <td>0.384615</td>\n",
       "      <td>0.384615</td>\n",
       "      <td>0.384615</td>\n",
       "      <td>0.384615</td>\n",
       "      <td>0.384615</td>\n",
       "      <td>0.384615</td>\n",
       "      <td>0.376374</td>\n",
       "      <td>0.012589</td>\n",
       "      <td>39</td>\n",
       "    </tr>\n",
       "    <tr>\n",
       "      <th>4</th>\n",
       "      <td>0.003271</td>\n",
       "      <td>0.003262</td>\n",
       "      <td>0.000552</td>\n",
       "      <td>0.001657</td>\n",
       "      <td>0.00001</td>\n",
       "      <td>0.1</td>\n",
       "      <td>rbf</td>\n",
       "      <td>{'C': 1e-05, 'gamma': 0.1, 'kernel': 'rbf'}</td>\n",
       "      <td>0.357143</td>\n",
       "      <td>0.357143</td>\n",
       "      <td>...</td>\n",
       "      <td>0.384615</td>\n",
       "      <td>0.384615</td>\n",
       "      <td>0.384615</td>\n",
       "      <td>0.384615</td>\n",
       "      <td>0.384615</td>\n",
       "      <td>0.384615</td>\n",
       "      <td>0.384615</td>\n",
       "      <td>0.376374</td>\n",
       "      <td>0.012589</td>\n",
       "      <td>39</td>\n",
       "    </tr>\n",
       "    <tr>\n",
       "      <th>...</th>\n",
       "      <td>...</td>\n",
       "      <td>...</td>\n",
       "      <td>...</td>\n",
       "      <td>...</td>\n",
       "      <td>...</td>\n",
       "      <td>...</td>\n",
       "      <td>...</td>\n",
       "      <td>...</td>\n",
       "      <td>...</td>\n",
       "      <td>...</td>\n",
       "      <td>...</td>\n",
       "      <td>...</td>\n",
       "      <td>...</td>\n",
       "      <td>...</td>\n",
       "      <td>...</td>\n",
       "      <td>...</td>\n",
       "      <td>...</td>\n",
       "      <td>...</td>\n",
       "      <td>...</td>\n",
       "      <td>...</td>\n",
       "      <td>...</td>\n",
       "    </tr>\n",
       "    <tr>\n",
       "      <th>105</th>\n",
       "      <td>0.088673</td>\n",
       "      <td>0.031185</td>\n",
       "      <td>0.001318</td>\n",
       "      <td>0.003955</td>\n",
       "      <td>1</td>\n",
       "      <td>NaN</td>\n",
       "      <td>linear</td>\n",
       "      <td>{'C': 1, 'kernel': 'linear'}</td>\n",
       "      <td>0.928571</td>\n",
       "      <td>1.000000</td>\n",
       "      <td>...</td>\n",
       "      <td>1.000000</td>\n",
       "      <td>1.000000</td>\n",
       "      <td>0.923077</td>\n",
       "      <td>1.000000</td>\n",
       "      <td>1.000000</td>\n",
       "      <td>0.923077</td>\n",
       "      <td>1.000000</td>\n",
       "      <td>0.970330</td>\n",
       "      <td>0.036380</td>\n",
       "      <td>2</td>\n",
       "    </tr>\n",
       "    <tr>\n",
       "      <th>106</th>\n",
       "      <td>0.140377</td>\n",
       "      <td>0.052885</td>\n",
       "      <td>0.001003</td>\n",
       "      <td>0.002410</td>\n",
       "      <td>10</td>\n",
       "      <td>NaN</td>\n",
       "      <td>linear</td>\n",
       "      <td>{'C': 10, 'kernel': 'linear'}</td>\n",
       "      <td>0.928571</td>\n",
       "      <td>0.928571</td>\n",
       "      <td>...</td>\n",
       "      <td>1.000000</td>\n",
       "      <td>1.000000</td>\n",
       "      <td>0.923077</td>\n",
       "      <td>1.000000</td>\n",
       "      <td>1.000000</td>\n",
       "      <td>0.923077</td>\n",
       "      <td>1.000000</td>\n",
       "      <td>0.963187</td>\n",
       "      <td>0.036862</td>\n",
       "      <td>3</td>\n",
       "    </tr>\n",
       "    <tr>\n",
       "      <th>107</th>\n",
       "      <td>0.146461</td>\n",
       "      <td>0.051296</td>\n",
       "      <td>0.000453</td>\n",
       "      <td>0.001358</td>\n",
       "      <td>100</td>\n",
       "      <td>NaN</td>\n",
       "      <td>linear</td>\n",
       "      <td>{'C': 100, 'kernel': 'linear'}</td>\n",
       "      <td>0.928571</td>\n",
       "      <td>0.928571</td>\n",
       "      <td>...</td>\n",
       "      <td>1.000000</td>\n",
       "      <td>1.000000</td>\n",
       "      <td>0.923077</td>\n",
       "      <td>1.000000</td>\n",
       "      <td>1.000000</td>\n",
       "      <td>0.923077</td>\n",
       "      <td>1.000000</td>\n",
       "      <td>0.963187</td>\n",
       "      <td>0.036862</td>\n",
       "      <td>3</td>\n",
       "    </tr>\n",
       "    <tr>\n",
       "      <th>108</th>\n",
       "      <td>0.134010</td>\n",
       "      <td>0.053220</td>\n",
       "      <td>0.002482</td>\n",
       "      <td>0.003363</td>\n",
       "      <td>1000</td>\n",
       "      <td>NaN</td>\n",
       "      <td>linear</td>\n",
       "      <td>{'C': 1000, 'kernel': 'linear'}</td>\n",
       "      <td>0.928571</td>\n",
       "      <td>0.928571</td>\n",
       "      <td>...</td>\n",
       "      <td>1.000000</td>\n",
       "      <td>1.000000</td>\n",
       "      <td>0.923077</td>\n",
       "      <td>1.000000</td>\n",
       "      <td>1.000000</td>\n",
       "      <td>0.923077</td>\n",
       "      <td>1.000000</td>\n",
       "      <td>0.963187</td>\n",
       "      <td>0.036862</td>\n",
       "      <td>3</td>\n",
       "    </tr>\n",
       "    <tr>\n",
       "      <th>109</th>\n",
       "      <td>0.092436</td>\n",
       "      <td>0.030744</td>\n",
       "      <td>0.000552</td>\n",
       "      <td>0.001157</td>\n",
       "      <td>10000</td>\n",
       "      <td>NaN</td>\n",
       "      <td>linear</td>\n",
       "      <td>{'C': 10000, 'kernel': 'linear'}</td>\n",
       "      <td>0.928571</td>\n",
       "      <td>0.928571</td>\n",
       "      <td>...</td>\n",
       "      <td>1.000000</td>\n",
       "      <td>1.000000</td>\n",
       "      <td>0.923077</td>\n",
       "      <td>1.000000</td>\n",
       "      <td>1.000000</td>\n",
       "      <td>0.923077</td>\n",
       "      <td>1.000000</td>\n",
       "      <td>0.963187</td>\n",
       "      <td>0.036862</td>\n",
       "      <td>3</td>\n",
       "    </tr>\n",
       "  </tbody>\n",
       "</table>\n",
       "<p>110 rows × 21 columns</p>\n",
       "</div>"
      ],
      "text/plain": [
       "     mean_fit_time  std_fit_time  mean_score_time  std_score_time  param_C  \\\n",
       "0         0.003450      0.004247         0.001224        0.003559  0.00001   \n",
       "1         0.002489      0.003444         0.000677        0.002031  0.00001   \n",
       "2         0.001617      0.002718         0.000153        0.000458  0.00001   \n",
       "3         0.002846      0.004517         0.000913        0.001598  0.00001   \n",
       "4         0.003271      0.003262         0.000552        0.001657  0.00001   \n",
       "..             ...           ...              ...             ...      ...   \n",
       "105       0.088673      0.031185         0.001318        0.003955        1   \n",
       "106       0.140377      0.052885         0.001003        0.002410       10   \n",
       "107       0.146461      0.051296         0.000453        0.001358      100   \n",
       "108       0.134010      0.053220         0.002482        0.003363     1000   \n",
       "109       0.092436      0.030744         0.000552        0.001157    10000   \n",
       "\n",
       "    param_gamma param_kernel                                          params  \\\n",
       "0       0.00001          rbf   {'C': 1e-05, 'gamma': 1e-05, 'kernel': 'rbf'}   \n",
       "1        0.0001          rbf  {'C': 1e-05, 'gamma': 0.0001, 'kernel': 'rbf'}   \n",
       "2         0.001          rbf   {'C': 1e-05, 'gamma': 0.001, 'kernel': 'rbf'}   \n",
       "3          0.01          rbf    {'C': 1e-05, 'gamma': 0.01, 'kernel': 'rbf'}   \n",
       "4           0.1          rbf     {'C': 1e-05, 'gamma': 0.1, 'kernel': 'rbf'}   \n",
       "..          ...          ...                                             ...   \n",
       "105         NaN       linear                    {'C': 1, 'kernel': 'linear'}   \n",
       "106         NaN       linear                   {'C': 10, 'kernel': 'linear'}   \n",
       "107         NaN       linear                  {'C': 100, 'kernel': 'linear'}   \n",
       "108         NaN       linear                 {'C': 1000, 'kernel': 'linear'}   \n",
       "109         NaN       linear                {'C': 10000, 'kernel': 'linear'}   \n",
       "\n",
       "     split0_test_score  split1_test_score  ...  split3_test_score  \\\n",
       "0             0.357143           0.357143  ...           0.384615   \n",
       "1             0.357143           0.357143  ...           0.384615   \n",
       "2             0.357143           0.357143  ...           0.384615   \n",
       "3             0.357143           0.357143  ...           0.384615   \n",
       "4             0.357143           0.357143  ...           0.384615   \n",
       "..                 ...                ...  ...                ...   \n",
       "105           0.928571           1.000000  ...           1.000000   \n",
       "106           0.928571           0.928571  ...           1.000000   \n",
       "107           0.928571           0.928571  ...           1.000000   \n",
       "108           0.928571           0.928571  ...           1.000000   \n",
       "109           0.928571           0.928571  ...           1.000000   \n",
       "\n",
       "     split4_test_score  split5_test_score  split6_test_score  \\\n",
       "0             0.384615           0.384615           0.384615   \n",
       "1             0.384615           0.384615           0.384615   \n",
       "2             0.384615           0.384615           0.384615   \n",
       "3             0.384615           0.384615           0.384615   \n",
       "4             0.384615           0.384615           0.384615   \n",
       "..                 ...                ...                ...   \n",
       "105           1.000000           0.923077           1.000000   \n",
       "106           1.000000           0.923077           1.000000   \n",
       "107           1.000000           0.923077           1.000000   \n",
       "108           1.000000           0.923077           1.000000   \n",
       "109           1.000000           0.923077           1.000000   \n",
       "\n",
       "     split7_test_score  split8_test_score  split9_test_score  mean_test_score  \\\n",
       "0             0.384615           0.384615           0.384615         0.376374   \n",
       "1             0.384615           0.384615           0.384615         0.376374   \n",
       "2             0.384615           0.384615           0.384615         0.376374   \n",
       "3             0.384615           0.384615           0.384615         0.376374   \n",
       "4             0.384615           0.384615           0.384615         0.376374   \n",
       "..                 ...                ...                ...              ...   \n",
       "105           1.000000           0.923077           1.000000         0.970330   \n",
       "106           1.000000           0.923077           1.000000         0.963187   \n",
       "107           1.000000           0.923077           1.000000         0.963187   \n",
       "108           1.000000           0.923077           1.000000         0.963187   \n",
       "109           1.000000           0.923077           1.000000         0.963187   \n",
       "\n",
       "     std_test_score  rank_test_score  \n",
       "0          0.012589               39  \n",
       "1          0.012589               39  \n",
       "2          0.012589               39  \n",
       "3          0.012589               39  \n",
       "4          0.012589               39  \n",
       "..              ...              ...  \n",
       "105        0.036380                2  \n",
       "106        0.036862                3  \n",
       "107        0.036862                3  \n",
       "108        0.036862                3  \n",
       "109        0.036862                3  \n",
       "\n",
       "[110 rows x 21 columns]"
      ]
     },
     "execution_count": 97,
     "metadata": {},
     "output_type": "execute_result"
    }
   ],
   "source": [
    "results = pd.DataFrame(grid_search.cv_results_)\n",
    "results"
   ]
  },
  {
   "cell_type": "code",
   "execution_count": 98,
   "id": "642a774d-43ef-416b-9ca3-88582b604f65",
   "metadata": {},
   "outputs": [
    {
     "name": "stdout",
     "output_type": "stream",
     "text": [
      "Значения правильности перекрестной проверки:  [0.88888889 1.         0.88888889 0.94444444 0.94444444 1.\n",
      " 1.         1.         1.         1.        ]\n",
      "Среднее значение правильности перекрестной проверки:  0.9666666666666668\n"
     ]
    }
   ],
   "source": [
    "scores = cross_val_score(GridSearchCV(SVC(), param_grid, cv=10), wine_dataset.data, wine_dataset.target, cv=10)\n",
    "print(\"Значения правильности перекрестной проверки: \", scores)\n",
    "print(\"Среднее значение правильности перекрестной проверки: \", scores.mean())\n",
    "# заняло много времени, построено ведь 3600 моделей(немало)"
   ]
  },
  {
   "cell_type": "code",
   "execution_count": 100,
   "id": "6e686372-867b-43ca-9fa6-a5bc0abfce49",
   "metadata": {},
   "outputs": [],
   "source": [
    "def nested_cv(X, y, inner_cv, outer_cv, Classifier, parameter_grid):\n",
    "    outer_scores = []\n",
    "    # для каждого разбиения данных во внешней перекрестной проверке \n",
    "    # (метод split возвращает индексы)   \n",
    "    for training_samples, test_samples in outer_cv.split(X, y):\n",
    "        # находим наилучшие параметры с помощью внутренней перекрестной проверки  \n",
    "        best_parms = {}\n",
    "        best_score = -np.inf\n",
    "        # итерируем по параметрам   \n",
    "        for parameters in parameter_grid:\n",
    "             # собираем значения правильности по всем внутренним разбиениям \n",
    "            cv_scores = []\n",
    "             # итерируем по разбиениям внутренней перекрестной проверки \n",
    "            for inner_train, inner_test in inner_cv.split(\n",
    "                    X[training_samples], y[training_samples]):\n",
    "                # строим классификатор с данными параметрами на внутреннем обучающем наборе\n",
    "                clf = Classifier(**parameters)\n",
    "                clf.fit(X[inner_train], y[inner_train])\n",
    "               # оцениваем качество на внутреннем тестовом наборе\n",
    "                score = clf.score(X[inner_test], y[inner_test])\n",
    "                cv_scores.append(score)\n",
    "            # вычисляем среднее значение правильности по внутренним блокам\n",
    "            mean_score = np.mean(cv_scores)\n",
    "            if mean_score > best_score:\n",
    "                # если лучше, чем предыдущие, запоминаем параметры \n",
    "                best_score = mean_score\n",
    "                best_params = parameters\n",
    "        # строим классификатор с лучшими параметрами на внешнем обучающем наборе\n",
    "        clf = Classifier(**best_params)\n",
    "        clf.fit(X[training_samples], y[training_samples])\n",
    "        # оцениваем качество на внешнем тестовом наборе \n",
    "        outer_scores.append(clf.score(X[test_samples], y[test_samples]))\n",
    "    return np.array(outer_scores)"
   ]
  },
  {
   "cell_type": "code",
   "execution_count": 101,
   "id": "6f6c13fa-192e-4289-ae3a-813547cef271",
   "metadata": {},
   "outputs": [
    {
     "name": "stdout",
     "output_type": "stream",
     "text": [
      "Значения правильности перекрестной проверки: [0.91666667 0.91666667 0.97222222 1.         1.        ]\n"
     ]
    }
   ],
   "source": [
    "from sklearn.model_selection import ParameterGrid, StratifiedKFold\n",
    "scores = nested_cv(wine_dataset.data, wine_dataset.target, StratifiedKFold(5), StratifiedKFold(5), SVC, ParameterGrid(param_grid))\n",
    "print(\"Значения правильности перекрестной проверки: {}\".format(scores))"
   ]
  },
  {
   "cell_type": "code",
   "execution_count": 105,
   "id": "023d1b11-17b9-4154-806b-30c4890565ac",
   "metadata": {},
   "outputs": [],
   "source": [
    "y = wine_dataset.target == 1\n",
    "\n",
    "X_train, X_test, y_train, y_test = train_test_split(wine_dataset.data, y, random_state=0)"
   ]
  },
  {
   "cell_type": "code",
   "execution_count": 106,
   "id": "76dc2f65-045b-4617-9cb3-963df1f6516d",
   "metadata": {},
   "outputs": [
    {
     "name": "stdout",
     "output_type": "stream",
     "text": [
      "Уникальные спрогнозированные метки: [False]\n",
      "Правильность на тестовом наборе: 0.53\n"
     ]
    }
   ],
   "source": [
    "from sklearn.dummy import DummyClassifier\n",
    "dummy_majority = DummyClassifier(strategy='most_frequent').fit(X_train, y_train)\n",
    "pred_most_frequent = dummy_majority.predict(X_test)\n",
    "print(\"Уникальные спрогнозированные метки: {}\".format(np.unique(pred_most_frequent)))\n",
    "print(\"Правильность на тестовом наборе: {:.2f}\".format(dummy_majority.score(X_test, y_test)))"
   ]
  },
  {
   "cell_type": "code",
   "execution_count": 107,
   "id": "4c6be172-0385-443d-b3c5-afd39c09dab4",
   "metadata": {},
   "outputs": [
    {
     "name": "stdout",
     "output_type": "stream",
     "text": [
      "Правильность на тестовом наборе: 0.91\n"
     ]
    }
   ],
   "source": [
    "from sklearn.tree import DecisionTreeClassifier\n",
    "tree = DecisionTreeClassifier(max_depth=2).fit(X_train, y_train)\n",
    "pred_tree = tree.predict(X_test)\n",
    "print(\"Правильность на тестовом наборе: {:.2f}\".format(tree.score(X_test, y_test)))\n",
    "# С точки зрения правильности DecisionTreeClassifier оказался чуть лучше, чем DummyClassifier и для wine_dataset"
   ]
  },
  {
   "cell_type": "code",
   "execution_count": 108,
   "id": "bc14aee8-0c16-43ab-8918-5052b5375f73",
   "metadata": {},
   "outputs": [
    {
     "name": "stdout",
     "output_type": "stream",
     "text": [
      "Правильность dummy: 0.53\n",
      "Правильность logreg: 1.00\n"
     ]
    }
   ],
   "source": [
    "from sklearn.linear_model import LogisticRegression\n",
    "dummy = DummyClassifier().fit(X_train, y_train)\n",
    "pred_dummy = dummy.predict(X_test)\n",
    "print(\"Правильность dummy: {:.2f}\".format(dummy.score(X_test, y_test)))\n",
    "logreg = LogisticRegression(C=0.1, max_iter=1000).fit(X_train, y_train)\n",
    "pred_logreg = logreg.predict(X_test)\n",
    "print(\"Правильность logreg: {:.2f}\".format(logreg.score(X_test, y_test)))\n",
    "# Дамми-классификатор оказался нааамного хуже, хотя logreg тоже вызывает подозрения(переобучение)"
   ]
  },
  {
   "cell_type": "code",
   "execution_count": 109,
   "id": "ce6207f7-d423-4a10-96f1-5b1772fb5a0d",
   "metadata": {},
   "outputs": [
    {
     "name": "stdout",
     "output_type": "stream",
     "text": [
      "Confusion matrix:\n",
      "[[24  0]\n",
      " [ 0 21]]\n"
     ]
    }
   ],
   "source": [
    "from sklearn.metrics import confusion_matrix\n",
    "confusion = confusion_matrix(y_test, pred_logreg)\n",
    "print(\"Confusion matrix:\\n{}\".format(confusion))"
   ]
  },
  {
   "cell_type": "code",
   "execution_count": 110,
   "id": "b70e6a51-cdc7-496a-92df-69596129408b",
   "metadata": {},
   "outputs": [
    {
     "name": "stdout",
     "output_type": "stream",
     "text": [
      "Наиболее часто встречающийся класс:\n",
      "[[24  0]\n",
      " [21  0]]\n",
      "\n",
      "Дамми-модель:\n",
      "[[24  0]\n",
      " [21  0]]\n",
      "\n",
      "Дерево решений:\n",
      "[[23  1]\n",
      " [ 3 18]]\n",
      "\n",
      "Логистическая регрессия:\n",
      "[[24  0]\n",
      " [ 0 21]]\n"
     ]
    }
   ],
   "source": [
    "print(\"Наиболее часто встречающийся класс:\")\n",
    "print(confusion_matrix(y_test, pred_most_frequent))\n",
    "print(\"\\nДамми-модель:\")\n",
    "print(confusion_matrix(y_test, pred_dummy))\n",
    "print(\"\\nДерево решений:\")\n",
    "print(confusion_matrix(y_test, pred_tree))\n",
    "print(\"\\nЛогистическая регрессия:\")\n",
    "print(confusion_matrix(y_test, pred_logreg))"
   ]
  },
  {
   "cell_type": "code",
   "execution_count": 111,
   "id": "44ee5405-1a4e-4f52-b339-bbc74922fb27",
   "metadata": {},
   "outputs": [
    {
     "name": "stdout",
     "output_type": "stream",
     "text": [
      "f1-мера наибольшая частота: 0.00\n",
      "f1-мера дамми: 0.00\n",
      "f1-мера дерево: 0.90\n",
      "f1-мера логистическая регрессия: 1.00\n"
     ]
    }
   ],
   "source": [
    "from sklearn.metrics import f1_score\n",
    "print(\"f1-мера наибольшая частота: {:.2f}\".format(f1_score(y_test, pred_most_frequent)))\n",
    "print(\"f1-мера дамми: {:.2f}\".format(f1_score(y_test, pred_dummy)))\n",
    "print(\"f1-мера дерево: {:.2f}\".format(f1_score(y_test, pred_tree)))\n",
    "print(\"f1-мера логистическая регрессия: {:.2f}\".format(f1_score(y_test, pred_logreg)))"
   ]
  },
  {
   "cell_type": "code",
   "execution_count": 115,
   "id": "96078590-2e5a-4f29-8813-27fe0280e57a",
   "metadata": {},
   "outputs": [
    {
     "name": "stdout",
     "output_type": "stream",
     "text": [
      "Accuracy: 0.933\n",
      "Confusion matrix:\n",
      "[[14  2  0]\n",
      " [ 0 20  1]\n",
      " [ 0  0  8]]\n"
     ]
    },
    {
     "name": "stderr",
     "output_type": "stream",
     "text": [
      "C:\\Users\\user\\AppData\\Local\\Programs\\Python\\Python311\\Lib\\site-packages\\sklearn\\linear_model\\_logistic.py:460: ConvergenceWarning: lbfgs failed to converge (status=1):\n",
      "STOP: TOTAL NO. of ITERATIONS REACHED LIMIT.\n",
      "\n",
      "Increase the number of iterations (max_iter) or scale the data as shown in:\n",
      "    https://scikit-learn.org/stable/modules/preprocessing.html\n",
      "Please also refer to the documentation for alternative solver options:\n",
      "    https://scikit-learn.org/stable/modules/linear_model.html#logistic-regression\n",
      "  n_iter_i = _check_optimize_result(\n"
     ]
    }
   ],
   "source": [
    "from sklearn.metrics import accuracy_score\n",
    "X_train, X_test, y_train, y_test = train_test_split(wine_dataset.data, wine_dataset.target, random_state=0)\n",
    "lr = LogisticRegression().fit(X_train, y_train)\n",
    "pred = lr.predict(X_test)\n",
    "print(\"Accuracy: {:.3f}\".format(accuracy_score(y_test, pred)))\n",
    "print(\"Confusion matrix:\\n{}\".format(confusion_matrix(y_test, pred)))"
   ]
  },
  {
   "cell_type": "code",
   "execution_count": 116,
   "id": "9608e67e-7c23-4b0e-828c-0399649d8f9c",
   "metadata": {},
   "outputs": [
    {
     "data": {
      "image/png": "[encoded data removed]",
      "text/plain": [
       "<Figure size 640x480 with 2 Axes>"
      ]
     },
     "metadata": {},
     "output_type": "display_data"
    }
   ],
   "source": [
    "import seaborn as sns\n",
    "import matplotlib.pyplot as plt\n",
    "\n",
    "# строим тепловую карту средних значений правильности перекрестной проверки\n",
    "ax = sns.heatmap(confusion_matrix(y_test, pred), annot=True, xticklabels=wine_dataset.target_names, yticklabels=wine_dataset.target_names, cmap='gray')\n",
    "ax.set(xlabel='Predicted label', ylabel='True label')\n",
    "ax.xaxis.tick_top()\n",
    "plt.title(\"Confusion matrix\")\n",
    "plt.gca().invert_yaxis()\n",
    "plt.show()"
   ]
  },
  {
   "cell_type": "code",
   "execution_count": 117,
   "id": "68712504-1156-41b3-a922-a7c58fb3c1e8",
   "metadata": {},
   "outputs": [
    {
     "name": "stdout",
     "output_type": "stream",
     "text": [
      "              precision    recall  f1-score   support\n",
      "\n",
      "           0       1.00      0.88      0.93        16\n",
      "           1       0.91      0.95      0.93        21\n",
      "           2       0.89      1.00      0.94         8\n",
      "\n",
      "    accuracy                           0.93        45\n",
      "   macro avg       0.93      0.94      0.93        45\n",
      "weighted avg       0.94      0.93      0.93        45\n",
      "\n"
     ]
    }
   ],
   "source": [
    "print(classification_report(y_test, pred))"
   ]
  },
  {
   "cell_type": "code",
   "execution_count": 118,
   "id": "db9475b4-b666-45f1-9d11-6089cf850897",
   "metadata": {},
   "outputs": [
    {
     "name": "stdout",
     "output_type": "stream",
     "text": [
      "Micro average f1 score: 0.933\n",
      "Macro average f1 score: 0.935\n"
     ]
    }
   ],
   "source": [
    "print(\"Micro average f1 score: {:.3f}\".format(f1_score(y_test, pred, average=\"micro\")))\n",
    "print(\"Macro average f1 score: {:.3f}\".format(f1_score(y_test, pred, average=\"macro\")))"
   ]
  },
  {
   "cell_type": "code",
   "execution_count": 121,
   "id": "d45c752a-abfc-46a0-886a-2d243b79823e",
   "metadata": {},
   "outputs": [
    {
     "name": "stdout",
     "output_type": "stream",
     "text": [
      "Метрика качества по умолчанию: [0.83333333 0.86111111 0.77777778 0.54285714 0.68571429]\n",
      "Метрика качества явно заданная правильность: [0.83333333 0.86111111 0.77777778 0.54285714 0.68571429]\n",
      "Метрика качества AUC: [0.93506494 0.93181818 0.89206349 0.7755102  0.93197279]\n"
     ]
    }
   ],
   "source": [
    "# метрика качества классификационной модели по умолчанию - правильность \n",
    "print(\"Метрика качества по умолчанию: {}\".format(cross_val_score(SVC(), wine_dataset.data, wine_dataset.target == 1)))\n",
    "# значение параметра scoring=\"accuracy\" не меняет результатов\n",
    "explicit_accuracy = cross_val_score(SVC(), wine_dataset.data, wine_dataset.target == 1, scoring=\"accuracy\")\n",
    "print(\"Метрика качества явно заданная правильность: {}\".format(explicit_accuracy))\n",
    "roc_auc = cross_val_score(SVC(), wine_dataset.data, wine_dataset.target == 1, scoring=\"roc_auc\")\n",
    "print(\"Метрика качества AUC: {}\".format(roc_auc))"
   ]
  },
  {
   "cell_type": "code",
   "execution_count": 122,
   "id": "3703cab4-90f6-4a1f-9b64-dfd6ecd42e9e",
   "metadata": {},
   "outputs": [
    {
     "name": "stdout",
     "output_type": "stream",
     "text": [
      "Решетчатый поиск с использованием правильности\n",
      "Наилучшие параметры:  {'gamma': 1e-05}\n",
      "Наилучшее значение перекрестной проверки (правильность): 0.790\n",
      "AUC на тестовом наборе: 0.923\n",
      "Правильность на тестовом наборе: 0.800\n"
     ]
    }
   ],
   "source": [
    "from sklearn.metrics import roc_auc_score\n",
    "X_train, X_test, y_train, y_test = train_test_split(wine_dataset.data, wine_dataset.target == 1, random_state=0)\n",
    "\n",
    "param_grid = {\n",
    "    'gamma': [0.00001,0.0001,0.001,0.01,0.1,1,10,100,1000,10000]\n",
    "}\n",
    "\n",
    "grid = GridSearchCV(SVC(), param_grid=param_grid)\n",
    "grid.fit(X_train, y_train)\n",
    "print(\"Решетчатый поиск с использованием правильности\")\n",
    "print(\"Наилучшие параметры: \", grid.best_params_)\n",
    "print(\"Наилучшее значение перекрестной проверки (правильность): {:.3f}\".format(grid.best_score_))\n",
    "print(\"AUC на тестовом наборе: {:.3f}\".format(roc_auc_score(y_test, grid.decision_function(X_test))))\n",
    "print(\"Правильность на тестовом наборе: {:.3f}\".format(grid.score(X_test, y_test)))"
   ]
  },
  {
   "cell_type": "code",
   "execution_count": 124,
   "id": "dbcddd53-bebf-4d23-89bf-667b77101447",
   "metadata": {},
   "outputs": [
    {
     "name": "stdout",
     "output_type": "stream",
     "text": [
      "Решетчатый поиск с использованием AUC\n",
      "Наилучшие параметры:  {'gamma': 0.01}\n",
      "Наилучшее значение перекрестной проверки (AUC): 0.836\n",
      "AUC на тестовом наборе: 0.819\n",
      "Правильность на тестовом наборе: 0.819\n"
     ]
    }
   ],
   "source": [
    "# используем метрику качества AUC\n",
    "grid = GridSearchCV(SVC(), param_grid=param_grid, scoring=\"roc_auc\")\n",
    "grid.fit(X_train, y_train)\n",
    "print(\"Решетчатый поиск с использованием AUC\")\n",
    "print(\"Наилучшие параметры: \", grid.best_params_)\n",
    "print(\"Наилучшее значение перекрестной проверки (AUC): {:.3f}\".format(grid.best_score_))\n",
    "print(\"AUC на тестовом наборе: {:.3f}\".format(roc_auc_score(y_test, grid.decision_function(X_test))))\n",
    "print(\"Правильность на тестовом наборе: {:.3f}\".format(grid.score(X_test, y_test)))"
   ]
  },
  {
   "cell_type": "markdown",
   "id": "d258c420-c37d-4a93-bb86-1894030b6517",
   "metadata": {},
   "source": [
    "# Вторая часть задания"
   ]
  },
  {
   "cell_type": "code",
   "execution_count": 1,
   "id": "f5a50e62-dcd1-4ec0-b302-97aca711bb52",
   "metadata": {},
   "outputs": [],
   "source": [
    "import pandas as pd\n",
    "import random\n",
    "\n",
    "# данные на 1000 строк\n",
    "random.seed(42)\n",
    "\n",
    "data = {'salary': [random.randint(40000, 100000) for _ in range(1000)],\n",
    "        'city': [random.choice(['Bishkek', 'Moscow', 'London','Berlin','Osh','Kara-Kul','Saint-Petersburg','Paris','New York']) for _ in range(1000)],\n",
    "        'age': [random.randint(30, 65) for _ in range(1000)],\n",
    "        'vacation_prefer': [random.choice(['Shopping', 'Beach holiday','Skiing', 'City tour', 'Spa']) for _ in range(1000)],\n",
    "        'transport_prefer': [random.choice(['auto', 'plane', 'train', 'cruise', 'bike']) for _ in range(1000)],\n",
    "        'target': [random.choice(['Bishkek', 'Moscow', 'London','Berlin','Osh','Kara-Kul','Saint-Petersburg','Paris','New York']) for _ in range(1000)]}\n",
    "\n",
    "df = pd.DataFrame(data)\n",
    "# df"
   ]
  },
  {
   "cell_type": "code",
   "execution_count": 2,
   "id": "ef0096c2-aae7-43a3-9e40-48972ccefb91",
   "metadata": {},
   "outputs": [],
   "source": [
    "# Преобразование категориальных данных в числовые\n",
    "df_encoded = pd.get_dummies(df, columns=['city', 'vacation_prefer', 'transport_prefer'])\n",
    "# df_encoded"
   ]
  },
  {
   "cell_type": "code",
   "execution_count": 3,
   "id": "056311bc-68a7-47a5-916b-58efbd75ff8c",
   "metadata": {},
   "outputs": [],
   "source": [
    "# Выделение обучающей и тестовой выборки\n",
    "from sklearn.model_selection import train_test_split\n",
    "\n",
    "X = df_encoded.drop('target', axis=1)\n",
    "y = df_encoded['target']\n",
    "\n",
    "X_train, X_test, y_train, y_test = train_test_split(X, y, test_size=0.4, random_state=42)"
   ]
  },
  {
   "cell_type": "code",
   "execution_count": 4,
   "id": "47a5daf6-4863-45ca-baaf-036d9222f8b3",
   "metadata": {},
   "outputs": [
    {
     "data": {
      "text/html": [
       "<style>#sk-container-id-1 {color: black;}#sk-container-id-1 pre{padding: 0;}#sk-container-id-1 div.sk-toggleable {background-color: white;}#sk-container-id-1 label.sk-toggleable__label {cursor: pointer;display: block;width: 100%;margin-bottom: 0;padding: 0.3em;box-sizing: border-box;text-align: center;}#sk-container-id-1 label.sk-toggleable__label-arrow:before {content: \"▸\";float: left;margin-right: 0.25em;color: #696969;}#sk-container-id-1 label.sk-toggleable__label-arrow:hover:before {color: black;}#sk-container-id-1 div.sk-estimator:hover label.sk-toggleable__label-arrow:before {color: black;}#sk-container-id-1 div.sk-toggleable__content {max-height: 0;max-width: 0;overflow: hidden;text-align: left;background-color: #f0f8ff;}#sk-container-id-1 div.sk-toggleable__content pre {margin: 0.2em;color: black;border-radius: 0.25em;background-color: #f0f8ff;}#sk-container-id-1 input.sk-toggleable__control:checked~div.sk-toggleable__content {max-height: 200px;max-width: 100%;overflow: auto;}#sk-container-id-1 input.sk-toggleable__control:checked~label.sk-toggleable__label-arrow:before {content: \"▾\";}#sk-container-id-1 div.sk-estimator input.sk-toggleable__control:checked~label.sk-toggleable__label {background-color: #d4ebff;}#sk-container-id-1 div.sk-label input.sk-toggleable__control:checked~label.sk-toggleable__label {background-color: #d4ebff;}#sk-container-id-1 input.sk-hidden--visually {border: 0;clip: rect(1px 1px 1px 1px);clip: rect(1px, 1px, 1px, 1px);height: 1px;margin: -1px;overflow: hidden;padding: 0;position: absolute;width: 1px;}#sk-container-id-1 div.sk-estimator {font-family: monospace;background-color: #f0f8ff;border: 1px dotted black;border-radius: 0.25em;box-sizing: border-box;margin-bottom: 0.5em;}#sk-container-id-1 div.sk-estimator:hover {background-color: #d4ebff;}#sk-container-id-1 div.sk-parallel-item::after {content: \"\";width: 100%;border-bottom: 1px solid gray;flex-grow: 1;}#sk-container-id-1 div.sk-label:hover label.sk-toggleable__label {background-color: #d4ebff;}#sk-container-id-1 div.sk-serial::before {content: \"\";position: absolute;border-left: 1px solid gray;box-sizing: border-box;top: 0;bottom: 0;left: 50%;z-index: 0;}#sk-container-id-1 div.sk-serial {display: flex;flex-direction: column;align-items: center;background-color: white;padding-right: 0.2em;padding-left: 0.2em;position: relative;}#sk-container-id-1 div.sk-item {position: relative;z-index: 1;}#sk-container-id-1 div.sk-parallel {display: flex;align-items: stretch;justify-content: center;background-color: white;position: relative;}#sk-container-id-1 div.sk-item::before, #sk-container-id-1 div.sk-parallel-item::before {content: \"\";position: absolute;border-left: 1px solid gray;box-sizing: border-box;top: 0;bottom: 0;left: 50%;z-index: -1;}#sk-container-id-1 div.sk-parallel-item {display: flex;flex-direction: column;z-index: 1;position: relative;background-color: white;}#sk-container-id-1 div.sk-parallel-item:first-child::after {align-self: flex-end;width: 50%;}#sk-container-id-1 div.sk-parallel-item:last-child::after {align-self: flex-start;width: 50%;}#sk-container-id-1 div.sk-parallel-item:only-child::after {width: 0;}#sk-container-id-1 div.sk-dashed-wrapped {border: 1px dashed gray;margin: 0 0.4em 0.5em 0.4em;box-sizing: border-box;padding-bottom: 0.4em;background-color: white;}#sk-container-id-1 div.sk-label label {font-family: monospace;font-weight: bold;display: inline-block;line-height: 1.2em;}#sk-container-id-1 div.sk-label-container {text-align: center;}#sk-container-id-1 div.sk-container {/* jupyter's `normalize.less` sets `[hidden] { display: none; }` but bootstrap.min.css set `[hidden] { display: none !important; }` so we also need the `!important` here to be able to override the default hidden behavior on the sphinx rendered scikit-learn.org. See: https://github.com/scikit-learn/scikit-learn/issues/21755 */display: inline-block !important;position: relative;}#sk-container-id-1 div.sk-text-repr-fallback {display: none;}</style><div id=\"sk-container-id-1\" class=\"sk-top-container\"><div class=\"sk-text-repr-fallback\"><pre>RandomForestClassifier(random_state=42)</pre><b>In a Jupyter environment, please rerun this cell to show the HTML representation or trust the notebook. <br />On GitHub, the HTML representation is unable to render, please try loading this page with nbviewer.org.</b></div><div class=\"sk-container\" hidden><div class=\"sk-item\"><div class=\"sk-estimator sk-toggleable\"><input class=\"sk-toggleable__control sk-hidden--visually\" id=\"sk-estimator-id-1\" type=\"checkbox\" checked><label for=\"sk-estimator-id-1\" class=\"sk-toggleable__label sk-toggleable__label-arrow\">RandomForestClassifier</label><div class=\"sk-toggleable__content\"><pre>RandomForestClassifier(random_state=42)</pre></div></div></div></div></div>"
      ],
      "text/plain": [
       "RandomForestClassifier(random_state=42)"
      ]
     },
     "execution_count": 4,
     "metadata": {},
     "output_type": "execute_result"
    }
   ],
   "source": [
    "from sklearn.ensemble import RandomForestClassifier\n",
    "\n",
    "forest = RandomForestClassifier(random_state=42)\n",
    "forest.fit(X_train, y_train)"
   ]
  },
  {
   "cell_type": "code",
   "execution_count": 5,
   "id": "7b54dd7c-3ee0-4c95-9b6c-6e55bfd88e20",
   "metadata": {},
   "outputs": [
    {
     "name": "stdout",
     "output_type": "stream",
     "text": [
      "Точность: 0.11\n"
     ]
    }
   ],
   "source": [
    "# проверка оценки модели\n",
    "from sklearn.metrics import accuracy_score\n",
    "\n",
    "y_pred = forest.predict(X_test)\n",
    "accuracy = accuracy_score(y_test, y_pred)\n",
    "print(f'Точность: {accuracy:.2f}')\n",
    "# очень низкая точность"
   ]
  },
  {
   "cell_type": "code",
   "execution_count": 6,
   "id": "1925039f-4202-4e66-8e51-34310f41416b",
   "metadata": {},
   "outputs": [
    {
     "name": "stdout",
     "output_type": "stream",
     "text": [
      "Предсказание на случайных данных: Berlin\n"
     ]
    }
   ],
   "source": [
    "# случайные данные\n",
    "random_data = {'salary': [40000],\n",
    "               'age': [40],\n",
    "               'city': ['Moscow'],\n",
    "               'vacation_prefer': ['Shopping'],\n",
    "               'transport_prefer': ['auto']}\n",
    "\n",
    "random_df = pd.DataFrame(random_data)\n",
    "random_df_encoded = pd.get_dummies(random_df, columns=['city', 'vacation_prefer', 'transport_prefer'])\n",
    "\n",
    "\n",
    "missing_columns = set(X_train.columns) - set(random_df_encoded.columns)\n",
    "for column in missing_columns:\n",
    "    random_df_encoded[column] = 0\n",
    "\n",
    "\n",
    "random_df_encoded = random_df_encoded[X_train.columns]\n",
    "\n",
    "\n",
    "prediction = forest.predict(random_df_encoded)\n",
    "print(f'Предсказание на случайных данных: {prediction[0]}')"
   ]
  },
  {
   "cell_type": "markdown",
   "id": "48881088-92d7-4222-b4bc-680d1fbaaa52",
   "metadata": {},
   "source": [
    "## Улучшение модели"
   ]
  },
  {
   "cell_type": "code",
   "execution_count": 7,
   "id": "c0ea7ac5-736d-4cc6-b736-c850ebc3ad6b",
   "metadata": {},
   "outputs": [
    {
     "name": "stdout",
     "output_type": "stream",
     "text": [
      "Cross-validation scores: [0.08982036 0.07784431 0.08383234 0.10179641 0.09036145 0.10240964]\n"
     ]
    }
   ],
   "source": [
    "from sklearn.model_selection import cross_val_score\n",
    "scores = cross_val_score(forest, X, y, cv=6)\n",
    "\n",
    "print(\"Cross-validation scores: {}\".format(scores))"
   ]
  },
  {
   "cell_type": "code",
   "execution_count": 8,
   "id": "93edcc8f-338d-4fc3-8272-49b72e0c41dc",
   "metadata": {},
   "outputs": [
    {
     "name": "stdout",
     "output_type": "stream",
     "text": [
      "Средняя правильность перекрестной проверки: 0.09\n"
     ]
    }
   ],
   "source": [
    "print(\"Средняя правильность перекрестной проверки: {:.2f}\".format(scores.mean()))"
   ]
  },
  {
   "cell_type": "code",
   "execution_count": 9,
   "id": "82c3d000-1edd-4a50-a346-4c15fb27a3fe",
   "metadata": {},
   "outputs": [
    {
     "name": "stdout",
     "output_type": "stream",
     "text": [
      "Значения правильности перекрестной проверки:\n",
      "[0.1  0.09 0.11 0.1  0.14 0.08 0.13 0.14 0.09 0.1 ]\n"
     ]
    }
   ],
   "source": [
    "from sklearn.model_selection import KFold\n",
    "kfold = KFold(n_splits=10)\n",
    "\n",
    "print(\"Значения правильности перекрестной проверки:\\n{}\".format(cross_val_score(forest, X, y, cv=kfold)))"
   ]
  },
  {
   "cell_type": "code",
   "execution_count": 10,
   "id": "5343bca3-a565-48d2-a4e6-c3220855ed22",
   "metadata": {},
   "outputs": [
    {
     "name": "stdout",
     "output_type": "stream",
     "text": [
      "Значения правильности перекрестной проверки:\n",
      "[0.08682635 0.11111111 0.11711712]\n"
     ]
    }
   ],
   "source": [
    "kfold = KFold(n_splits=3)\n",
    "\n",
    "print(\"Значения правильности перекрестной проверки:\\n{}\".format(cross_val_score(forest, X, y, cv=kfold)))"
   ]
  },
  {
   "cell_type": "code",
   "execution_count": 11,
   "id": "331f8de0-213a-4584-a110-aca0995a2dce",
   "metadata": {},
   "outputs": [
    {
     "name": "stdout",
     "output_type": "stream",
     "text": [
      "Значения правильности перекрестной проверки:\n",
      "[0.10179641 0.11711712 0.08108108]\n"
     ]
    }
   ],
   "source": [
    "kfold = KFold(n_splits=3, shuffle=True, random_state=0)\n",
    "\n",
    "print(\"Значения правильности перекрестной проверки:\\n{}\".format(cross_val_score(forest, X, y, cv=kfold)))\n",
    "# перемешали данные, стало хуже..."
   ]
  },
  {
   "cell_type": "code",
   "execution_count": 12,
   "id": "9065979f-00c7-4328-9fc4-c31fb7ea55b1",
   "metadata": {},
   "outputs": [
    {
     "name": "stdout",
     "output_type": "stream",
     "text": [
      "Значения правильности перекрестной проверки:\n",
      "[0.102 0.122 0.09  0.08  0.114]\n"
     ]
    }
   ],
   "source": [
    "from sklearn.model_selection import ShuffleSplit\n",
    "shuffle_split = ShuffleSplit(test_size=.5, train_size = .5, n_splits=5)\n",
    "scores = cross_val_score(forest, X, y, cv=shuffle_split)\n",
    "print(\"Значения правильности перекрестной проверки:\\n{}\".format(scores))"
   ]
  },
  {
   "cell_type": "code",
   "execution_count": 13,
   "id": "8092d94e-ac05-4ef1-9e3f-f74499efacec",
   "metadata": {},
   "outputs": [
    {
     "name": "stdout",
     "output_type": "stream",
     "text": [
      "Размер обучающего набора: 750 \n",
      "Размер тестового набора: 250\n",
      "Наилучшее значение правильности: 0.13\n",
      "Наилучшее значение параметров: {'C': 1, 'gamma': 0.01}\n"
     ]
    }
   ],
   "source": [
    "# простой решетчатый поиск\n",
    "from sklearn.svm import SVC\n",
    "from sklearn.model_selection import train_test_split\n",
    "X_train, X_test, y_train, y_test = train_test_split(X, y, random_state=0)\n",
    "print(\"Размер обучающего набора: {} \\nРазмер тестового набора: {}\".format(X_train.shape[0], X_test.shape[0]))\n",
    "best_score = 0\n",
    "for gamma in [0.00001,0.0001,0.001,0.01,0.1,1,10,100,1000,10000]:\n",
    "    for C in [0.00001,0.0001,0.001,0.01,0.1,1,10,100,1000,10000]:\n",
    "        svm = SVC(gamma=gamma, C=C)\n",
    "        svm.fit(X_train, y_train)\n",
    "        score = svm.score(X_test, y_test)\n",
    "        if score > best_score:\n",
    "            best_score = score\n",
    "            best_parameters = {'C':C, 'gamma': gamma}\n",
    "print(\"Наилучшее значение правильности: {:.2f}\".format(best_score))\n",
    "print(\"Наилучшее значение параметров: {}\".format(best_parameters))"
   ]
  },
  {
   "cell_type": "code",
   "execution_count": 14,
   "id": "35f75c75-6563-4ec9-95d8-a286a7620a54",
   "metadata": {},
   "outputs": [
    {
     "name": "stdout",
     "output_type": "stream",
     "text": [
      "Размер обучающего набора: 562 \n",
      "Размер проверочного набора: 188 \n",
      "Размер тестового набора: 250\n",
      "\n",
      "Лучшее значение правильности на проверочном наборе: 0.13\n",
      "Наилучшие значения параметров:  {'C': 1, 'gamma': 0.01}\n",
      "Правильность на тестовом наборе с наилучшими параметрами: 0.13\n"
     ]
    }
   ],
   "source": [
    "from sklearn.svm import SVC \n",
    "\n",
    "X_trainval, X_test, y_trainval, y_test = train_test_split(X, y, random_state=0) \n",
    "X_train, X_valid, y_train, y_valid = train_test_split(X_trainval, y_trainval, random_state=1) \n",
    "print(\"Размер обучающего набора: {} \\nРазмер проверочного набора: {} \\nРазмер тестового набора:\" \" {}\\n\".format(X_train.shape[0], X_valid.shape[0], X_test.shape[0])) \n",
    " \n",
    "best_score = 0 \n",
    "for gamma in [0.00001,0.0001,0.001,0.01,0.1,1,10,100,1000,10000]:     \n",
    "    for C in [0.00001,0.0001,0.001,0.01,0.1,1,10,100,1000,10000]:         \n",
    "        svm = SVC(gamma=gamma, C=C)         \n",
    "        svm.fit(X_train, y_train)         \n",
    "        score = svm.score(X_valid, y_valid) \n",
    "        if score > best_score:             \n",
    "            best_score = score \n",
    "            best_parameters = {'C': C, 'gamma': gamma} \n",
    "            \n",
    "svm = SVC(**best_parameters) \n",
    "svm.fit(X_trainval, y_trainval) \n",
    "test_score = svm.score(X_test, y_test) \n",
    "print(\"Лучшее значение правильности на проверочном наборе: {:.2f}\".format(best_score)) \n",
    "print(\"Наилучшие значения параметров: \", best_parameters) \n",
    "print(\"Правильность на тестовом наборе с наилучшими параметрами: {:.2f}\".format(test_score))  "
   ]
  },
  {
   "cell_type": "code",
   "execution_count": 15,
   "id": "9f215ffe-50d9-4b75-8e40-b848c30111a0",
   "metadata": {},
   "outputs": [
    {
     "name": "stdout",
     "output_type": "stream",
     "text": [
      "Сетка параметров:\n",
      "{'C': [1e-05, 0.0001, 0.001, 0.01, 0.1, 1, 10, 100, 1000, 10000], 'gamma': [1e-05, 0.0001, 0.001, 0.01, 0.1, 1, 10, 100, 1000, 10000]}\n"
     ]
    }
   ],
   "source": [
    "param_grid = {'C': [0.00001,0.0001,0.001,0.01,0.1,1,10,100,1000,10000],\n",
    "              'gamma': [0.00001,0.0001,0.001,0.01,0.1,1,10,100,1000,10000]\n",
    "             }\n",
    "print(\"Сетка параметров:\\n{}\".format(param_grid))"
   ]
  },
  {
   "cell_type": "code",
   "execution_count": 16,
   "id": "94396b7a-f42f-40f3-a61e-dd24129d57ca",
   "metadata": {},
   "outputs": [
    {
     "data": {
      "text/html": [
       "<style>#sk-container-id-2 {color: black;}#sk-container-id-2 pre{padding: 0;}#sk-container-id-2 div.sk-toggleable {background-color: white;}#sk-container-id-2 label.sk-toggleable__label {cursor: pointer;display: block;width: 100%;margin-bottom: 0;padding: 0.3em;box-sizing: border-box;text-align: center;}#sk-container-id-2 label.sk-toggleable__label-arrow:before {content: \"▸\";float: left;margin-right: 0.25em;color: #696969;}#sk-container-id-2 label.sk-toggleable__label-arrow:hover:before {color: black;}#sk-container-id-2 div.sk-estimator:hover label.sk-toggleable__label-arrow:before {color: black;}#sk-container-id-2 div.sk-toggleable__content {max-height: 0;max-width: 0;overflow: hidden;text-align: left;background-color: #f0f8ff;}#sk-container-id-2 div.sk-toggleable__content pre {margin: 0.2em;color: black;border-radius: 0.25em;background-color: #f0f8ff;}#sk-container-id-2 input.sk-toggleable__control:checked~div.sk-toggleable__content {max-height: 200px;max-width: 100%;overflow: auto;}#sk-container-id-2 input.sk-toggleable__control:checked~label.sk-toggleable__label-arrow:before {content: \"▾\";}#sk-container-id-2 div.sk-estimator input.sk-toggleable__control:checked~label.sk-toggleable__label {background-color: #d4ebff;}#sk-container-id-2 div.sk-label input.sk-toggleable__control:checked~label.sk-toggleable__label {background-color: #d4ebff;}#sk-container-id-2 input.sk-hidden--visually {border: 0;clip: rect(1px 1px 1px 1px);clip: rect(1px, 1px, 1px, 1px);height: 1px;margin: -1px;overflow: hidden;padding: 0;position: absolute;width: 1px;}#sk-container-id-2 div.sk-estimator {font-family: monospace;background-color: #f0f8ff;border: 1px dotted black;border-radius: 0.25em;box-sizing: border-box;margin-bottom: 0.5em;}#sk-container-id-2 div.sk-estimator:hover {background-color: #d4ebff;}#sk-container-id-2 div.sk-parallel-item::after {content: \"\";width: 100%;border-bottom: 1px solid gray;flex-grow: 1;}#sk-container-id-2 div.sk-label:hover label.sk-toggleable__label {background-color: #d4ebff;}#sk-container-id-2 div.sk-serial::before {content: \"\";position: absolute;border-left: 1px solid gray;box-sizing: border-box;top: 0;bottom: 0;left: 50%;z-index: 0;}#sk-container-id-2 div.sk-serial {display: flex;flex-direction: column;align-items: center;background-color: white;padding-right: 0.2em;padding-left: 0.2em;position: relative;}#sk-container-id-2 div.sk-item {position: relative;z-index: 1;}#sk-container-id-2 div.sk-parallel {display: flex;align-items: stretch;justify-content: center;background-color: white;position: relative;}#sk-container-id-2 div.sk-item::before, #sk-container-id-2 div.sk-parallel-item::before {content: \"\";position: absolute;border-left: 1px solid gray;box-sizing: border-box;top: 0;bottom: 0;left: 50%;z-index: -1;}#sk-container-id-2 div.sk-parallel-item {display: flex;flex-direction: column;z-index: 1;position: relative;background-color: white;}#sk-container-id-2 div.sk-parallel-item:first-child::after {align-self: flex-end;width: 50%;}#sk-container-id-2 div.sk-parallel-item:last-child::after {align-self: flex-start;width: 50%;}#sk-container-id-2 div.sk-parallel-item:only-child::after {width: 0;}#sk-container-id-2 div.sk-dashed-wrapped {border: 1px dashed gray;margin: 0 0.4em 0.5em 0.4em;box-sizing: border-box;padding-bottom: 0.4em;background-color: white;}#sk-container-id-2 div.sk-label label {font-family: monospace;font-weight: bold;display: inline-block;line-height: 1.2em;}#sk-container-id-2 div.sk-label-container {text-align: center;}#sk-container-id-2 div.sk-container {/* jupyter's `normalize.less` sets `[hidden] { display: none; }` but bootstrap.min.css set `[hidden] { display: none !important; }` so we also need the `!important` here to be able to override the default hidden behavior on the sphinx rendered scikit-learn.org. See: https://github.com/scikit-learn/scikit-learn/issues/21755 */display: inline-block !important;position: relative;}#sk-container-id-2 div.sk-text-repr-fallback {display: none;}</style><div id=\"sk-container-id-2\" class=\"sk-top-container\"><div class=\"sk-text-repr-fallback\"><pre>GridSearchCV(cv=5, estimator=SVC(),\n",
       "             param_grid={&#x27;C&#x27;: [1e-05, 0.0001, 0.001, 0.01, 0.1, 1, 10, 100,\n",
       "                               1000, 10000],\n",
       "                         &#x27;gamma&#x27;: [1e-05, 0.0001, 0.001, 0.01, 0.1, 1, 10, 100,\n",
       "                                   1000, 10000]})</pre><b>In a Jupyter environment, please rerun this cell to show the HTML representation or trust the notebook. <br />On GitHub, the HTML representation is unable to render, please try loading this page with nbviewer.org.</b></div><div class=\"sk-container\" hidden><div class=\"sk-item sk-dashed-wrapped\"><div class=\"sk-label-container\"><div class=\"sk-label sk-toggleable\"><input class=\"sk-toggleable__control sk-hidden--visually\" id=\"sk-estimator-id-2\" type=\"checkbox\" ><label for=\"sk-estimator-id-2\" class=\"sk-toggleable__label sk-toggleable__label-arrow\">GridSearchCV</label><div class=\"sk-toggleable__content\"><pre>GridSearchCV(cv=5, estimator=SVC(),\n",
       "             param_grid={&#x27;C&#x27;: [1e-05, 0.0001, 0.001, 0.01, 0.1, 1, 10, 100,\n",
       "                               1000, 10000],\n",
       "                         &#x27;gamma&#x27;: [1e-05, 0.0001, 0.001, 0.01, 0.1, 1, 10, 100,\n",
       "                                   1000, 10000]})</pre></div></div></div><div class=\"sk-parallel\"><div class=\"sk-parallel-item\"><div class=\"sk-item\"><div class=\"sk-label-container\"><div class=\"sk-label sk-toggleable\"><input class=\"sk-toggleable__control sk-hidden--visually\" id=\"sk-estimator-id-3\" type=\"checkbox\" ><label for=\"sk-estimator-id-3\" class=\"sk-toggleable__label sk-toggleable__label-arrow\">estimator: SVC</label><div class=\"sk-toggleable__content\"><pre>SVC()</pre></div></div></div><div class=\"sk-serial\"><div class=\"sk-item\"><div class=\"sk-estimator sk-toggleable\"><input class=\"sk-toggleable__control sk-hidden--visually\" id=\"sk-estimator-id-4\" type=\"checkbox\" ><label for=\"sk-estimator-id-4\" class=\"sk-toggleable__label sk-toggleable__label-arrow\">SVC</label><div class=\"sk-toggleable__content\"><pre>SVC()</pre></div></div></div></div></div></div></div></div></div></div>"
      ],
      "text/plain": [
       "GridSearchCV(cv=5, estimator=SVC(),\n",
       "             param_grid={'C': [1e-05, 0.0001, 0.001, 0.01, 0.1, 1, 10, 100,\n",
       "                               1000, 10000],\n",
       "                         'gamma': [1e-05, 0.0001, 0.001, 0.01, 0.1, 1, 10, 100,\n",
       "                                   1000, 10000]})"
      ]
     },
     "execution_count": 16,
     "metadata": {},
     "output_type": "execute_result"
    }
   ],
   "source": [
    "from sklearn.model_selection import GridSearchCV\n",
    "from sklearn.svm import SVC\n",
    "grid_search = GridSearchCV(SVC(), param_grid, cv=5)\n",
    "\n",
    "X_train, X_test, y_train, y_test = train_test_split(X, y, random_state=0)\n",
    "grid_search.fit(X_train,y_train)"
   ]
  },
  {
   "cell_type": "code",
   "execution_count": 17,
   "id": "07c9cf6f-416b-4b0b-a2a3-1f0e66631bf0",
   "metadata": {},
   "outputs": [
    {
     "name": "stdout",
     "output_type": "stream",
     "text": [
      "Правильность на тестовом наборе: 0.12\n"
     ]
    }
   ],
   "source": [
    "print(\"Правильность на тестовом наборе: {:.2f}\".format(grid_search.score(X_test,y_test)))"
   ]
  },
  {
   "cell_type": "code",
   "execution_count": 18,
   "id": "9674350f-06aa-414c-821b-334e9afe6599",
   "metadata": {},
   "outputs": [
    {
     "name": "stdout",
     "output_type": "stream",
     "text": [
      "Наилучшее значения параметров: {'C': 1e-05, 'gamma': 1e-05}\n",
      "Наилучшее значение кросс-валидационной правильности: 0.13\n"
     ]
    }
   ],
   "source": [
    "print(\"Наилучшее значения параметров: {}\".format(grid_search.best_params_))\n",
    "print(\"Наилучшее значение кросс-валидационной правильности: {:.2f}\".format(grid_search.best_score_))"
   ]
  },
  {
   "cell_type": "code",
   "execution_count": 19,
   "id": "a2e66d82-a639-4f99-ba83-e03815d84f84",
   "metadata": {},
   "outputs": [
    {
     "data": {
      "text/html": [
       "<div>\n",
       "<style scoped>\n",
       "    .dataframe tbody tr th:only-of-type {\n",
       "        vertical-align: middle;\n",
       "    }\n",
       "\n",
       "    .dataframe tbody tr th {\n",
       "        vertical-align: top;\n",
       "    }\n",
       "\n",
       "    .dataframe thead th {\n",
       "        text-align: right;\n",
       "    }\n",
       "</style>\n",
       "<table border=\"1\" class=\"dataframe\">\n",
       "  <thead>\n",
       "    <tr style=\"text-align: right;\">\n",
       "      <th></th>\n",
       "      <th>mean_fit_time</th>\n",
       "      <th>std_fit_time</th>\n",
       "      <th>mean_score_time</th>\n",
       "      <th>std_score_time</th>\n",
       "      <th>param_C</th>\n",
       "      <th>param_gamma</th>\n",
       "      <th>params</th>\n",
       "      <th>split0_test_score</th>\n",
       "      <th>split1_test_score</th>\n",
       "      <th>split2_test_score</th>\n",
       "      <th>split3_test_score</th>\n",
       "      <th>split4_test_score</th>\n",
       "      <th>mean_test_score</th>\n",
       "      <th>std_test_score</th>\n",
       "      <th>rank_test_score</th>\n",
       "    </tr>\n",
       "  </thead>\n",
       "  <tbody>\n",
       "    <tr>\n",
       "      <th>0</th>\n",
       "      <td>0.046356</td>\n",
       "      <td>0.000396</td>\n",
       "      <td>0.013361</td>\n",
       "      <td>0.000445</td>\n",
       "      <td>0.00001</td>\n",
       "      <td>0.00001</td>\n",
       "      <td>{'C': 1e-05, 'gamma': 1e-05}</td>\n",
       "      <td>0.126667</td>\n",
       "      <td>0.133333</td>\n",
       "      <td>0.133333</td>\n",
       "      <td>0.133333</td>\n",
       "      <td>0.133333</td>\n",
       "      <td>0.132</td>\n",
       "      <td>0.002667</td>\n",
       "      <td>1</td>\n",
       "    </tr>\n",
       "    <tr>\n",
       "      <th>1</th>\n",
       "      <td>0.048863</td>\n",
       "      <td>0.000373</td>\n",
       "      <td>0.014206</td>\n",
       "      <td>0.000238</td>\n",
       "      <td>0.00001</td>\n",
       "      <td>0.0001</td>\n",
       "      <td>{'C': 1e-05, 'gamma': 0.0001}</td>\n",
       "      <td>0.126667</td>\n",
       "      <td>0.133333</td>\n",
       "      <td>0.133333</td>\n",
       "      <td>0.133333</td>\n",
       "      <td>0.133333</td>\n",
       "      <td>0.132</td>\n",
       "      <td>0.002667</td>\n",
       "      <td>1</td>\n",
       "    </tr>\n",
       "    <tr>\n",
       "      <th>2</th>\n",
       "      <td>0.049989</td>\n",
       "      <td>0.001491</td>\n",
       "      <td>0.013388</td>\n",
       "      <td>0.001129</td>\n",
       "      <td>0.00001</td>\n",
       "      <td>0.001</td>\n",
       "      <td>{'C': 1e-05, 'gamma': 0.001}</td>\n",
       "      <td>0.126667</td>\n",
       "      <td>0.133333</td>\n",
       "      <td>0.133333</td>\n",
       "      <td>0.133333</td>\n",
       "      <td>0.133333</td>\n",
       "      <td>0.132</td>\n",
       "      <td>0.002667</td>\n",
       "      <td>1</td>\n",
       "    </tr>\n",
       "    <tr>\n",
       "      <th>3</th>\n",
       "      <td>0.048733</td>\n",
       "      <td>0.001181</td>\n",
       "      <td>0.014801</td>\n",
       "      <td>0.001215</td>\n",
       "      <td>0.00001</td>\n",
       "      <td>0.01</td>\n",
       "      <td>{'C': 1e-05, 'gamma': 0.01}</td>\n",
       "      <td>0.126667</td>\n",
       "      <td>0.133333</td>\n",
       "      <td>0.133333</td>\n",
       "      <td>0.133333</td>\n",
       "      <td>0.133333</td>\n",
       "      <td>0.132</td>\n",
       "      <td>0.002667</td>\n",
       "      <td>1</td>\n",
       "    </tr>\n",
       "    <tr>\n",
       "      <th>4</th>\n",
       "      <td>0.050100</td>\n",
       "      <td>0.000913</td>\n",
       "      <td>0.014170</td>\n",
       "      <td>0.001116</td>\n",
       "      <td>0.00001</td>\n",
       "      <td>0.1</td>\n",
       "      <td>{'C': 1e-05, 'gamma': 0.1}</td>\n",
       "      <td>0.126667</td>\n",
       "      <td>0.133333</td>\n",
       "      <td>0.133333</td>\n",
       "      <td>0.133333</td>\n",
       "      <td>0.133333</td>\n",
       "      <td>0.132</td>\n",
       "      <td>0.002667</td>\n",
       "      <td>1</td>\n",
       "    </tr>\n",
       "  </tbody>\n",
       "</table>\n",
       "</div>"
      ],
      "text/plain": [
       "   mean_fit_time  std_fit_time  mean_score_time  std_score_time  param_C  \\\n",
       "0       0.046356      0.000396         0.013361        0.000445  0.00001   \n",
       "1       0.048863      0.000373         0.014206        0.000238  0.00001   \n",
       "2       0.049989      0.001491         0.013388        0.001129  0.00001   \n",
       "3       0.048733      0.001181         0.014801        0.001215  0.00001   \n",
       "4       0.050100      0.000913         0.014170        0.001116  0.00001   \n",
       "\n",
       "  param_gamma                         params  split0_test_score  \\\n",
       "0     0.00001   {'C': 1e-05, 'gamma': 1e-05}           0.126667   \n",
       "1      0.0001  {'C': 1e-05, 'gamma': 0.0001}           0.126667   \n",
       "2       0.001   {'C': 1e-05, 'gamma': 0.001}           0.126667   \n",
       "3        0.01    {'C': 1e-05, 'gamma': 0.01}           0.126667   \n",
       "4         0.1     {'C': 1e-05, 'gamma': 0.1}           0.126667   \n",
       "\n",
       "   split1_test_score  split2_test_score  split3_test_score  split4_test_score  \\\n",
       "0           0.133333           0.133333           0.133333           0.133333   \n",
       "1           0.133333           0.133333           0.133333           0.133333   \n",
       "2           0.133333           0.133333           0.133333           0.133333   \n",
       "3           0.133333           0.133333           0.133333           0.133333   \n",
       "4           0.133333           0.133333           0.133333           0.133333   \n",
       "\n",
       "   mean_test_score  std_test_score  rank_test_score  \n",
       "0            0.132        0.002667                1  \n",
       "1            0.132        0.002667                1  \n",
       "2            0.132        0.002667                1  \n",
       "3            0.132        0.002667                1  \n",
       "4            0.132        0.002667                1  "
      ]
     },
     "metadata": {},
     "output_type": "display_data"
    }
   ],
   "source": [
    "import pandas as pd\n",
    "results = pd.DataFrame(grid_search.cv_results_)\n",
    "display(results.head())"
   ]
  },
  {
   "cell_type": "code",
   "execution_count": 21,
   "id": "75fe4a27-1c0f-4c82-bf3b-6246d3f7b931",
   "metadata": {},
   "outputs": [
    {
     "data": {
      "image/png": "[encoded data removed]",
      "text/plain": [
       "<Figure size 640x480 with 2 Axes>"
      ]
     },
     "metadata": {},
     "output_type": "display_data"
    }
   ],
   "source": [
    "import seaborn as sns\n",
    "import matplotlib.pyplot as plt\n",
    "import numpy as np\n",
    "scores = np.array(results.mean_test_score).reshape(10,10)\n",
    "\n",
    "# строим тепловую карту средних значений правильности перекрестной проверки\n",
    "ax = sns.heatmap(scores, annot=True, xticklabels=param_grid['gamma'], yticklabels=param_grid['C'], cmap='hsv')\n",
    "ax.set(xlabel=\"gamma\", ylabel=\"C\")\n",
    "ax.xaxis.tick_top()\n",
    "\n",
    "plt.show()"
   ]
  },
  {
   "cell_type": "code",
   "execution_count": null,
   "id": "4c0c5ea5-1f53-4b72-9345-2b643824ce68",
   "metadata": {},
   "outputs": [],
   "source": [
    "# удалось улучшить модель только на 0.2, что очень мало"
   ]
  }
 ],
 "metadata": {
  "kernelspec": {
   "display_name": "Python 3 (ipykernel)",
   "language": "python",
   "name": "python3"
  },
  "language_info": {
   "codemirror_mode": {
    "name": "ipython",
    "version": 3
   },
   "file_extension": ".py",
   "mimetype": "text/x-python",
   "name": "python",
   "nbconvert_exporter": "python",
   "pygments_lexer": "ipython3",
   "version": "3.11.5"
  }
 },
 "nbformat": 4,
 "nbformat_minor": 5
}
